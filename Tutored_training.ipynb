{
 "cells": [
  {
   "cell_type": "markdown",
   "metadata": {},
   "source": [
    "<div style=\"border:solid Chocolate 2px; padding: 40px\">\n",
    " \n",
    "<b> Сергей, привет!👋</b>  \n",
    "\n",
    "Меня зовут Кирилл Васильев, я буду ревьюером твоего проекта. Я предлагаю общаться на «ты», но если привычнее на «вы», просто скажи об этом! \n",
    "\n",
    "Я буду оставлять комментарии в твоем проекте. Пожалуйста, не удаляй их, они могут быть полезны в случае повторной проверки.\n",
    "\n",
    "Свои комментарии я буду обозначать <font color='green'>зеленым</font>, <font color='gold'>желтым</font> и <font color='red'>красным</font> цветами, например:\n",
    "  \n",
    "<br/>\n",
    "\n",
    "<div class=\"alert alert-success\">\n",
    "<h2> Комментарий ревьюера <a class=\"tocSkip\"> </h2>\n",
    "\n",
    "<b>Все отлично!👍:</b> В случае, если решение на отдельном шаге является полностью правильным. Здесь же я могу давать советы и предложения.\n",
    "</div>\n",
    "\n",
    "<br/>\n",
    "\n",
    "<div class=\"alert alert-warning\">\n",
    "    <h2> Комментарий ревьюера <a class=\"tocSkip\"> </h2>\n",
    "    \n",
    "<b>Некоторые замечания и рекомендации💡:</b> В случае, когда решение на отдельном шаге станет еще лучше, если внести небольшие коррективы.\n",
    "</div>\n",
    "\n",
    "\n",
    "<br/>\n",
    "<div class=\"alert alert-block alert-danger\">\n",
    "<h2> Комментарий ревьюера <a class=\"tocSkip\"></h2>\n",
    "\n",
    "     \n",
    "<b>На доработку🤔:</b>\n",
    " В случае, когда решение на отдельном шаге требует существенной переработки и внесения правок. Напоминаю, что проект не может быть принят с первого раза, если ревью содержит комментарии, рекомендующие доработать шаги.\n",
    "</div>\n",
    "\n",
    "<br/>\n",
    "<div class=\"alert alert-info\">\n",
    "Рекомендую для твоих комментариев использовать синий или любой другой цветной фон. Я постараюсь ничего не пропустить, но если комментарии будут выделены, то это мне очень поможет!\n",
    "</div>\n",
    "    \n",
    "Увидев у тебя неточность, в первый раз я лишь укажу на ее наличие и дам тебе возможность самостоятельно найти и исправить ее. На реальной работе твой руководитель будет поступать также. Но если ты пока не справишься с такой задачей - при следующей проверке я дам более точную подсказку."
   ]
  },
  {
   "cell_type": "markdown",
   "metadata": {},
   "source": [
    "<div class=\"alert alert-info\">\n",
    "Кирилл, привет!\n",
    "приятно познакомиться\n",
    "</div>"
   ]
  },
  {
   "cell_type": "markdown",
   "metadata": {},
   "source": [
    "<div class=\"alert alert-success\">\n",
    "<h2> Комментарий ревьюера #2 <a class=\"tocSkip\"> </h2>\n",
    "\n",
    "👍 Cнова привет. Спасибо за заметное оформление твоих комментариев.\n",
    "</div>\n"
   ]
  },
  {
   "cell_type": "markdown",
   "metadata": {
    "toc": true
   },
   "source": [
    "<h1>Содержание<span class=\"tocSkip\"></span></h1>\n",
    "<div class=\"toc\"><ul class=\"toc-item\"><li><span><a href=\"#Обработка-параметра-Tenure\" data-toc-modified-id=\"Обработка-параметра-Tenure-1\"><span class=\"toc-item-num\">1&nbsp;&nbsp;</span>Обработка параметра Tenure</a></span></li><li><span><a href=\"#Surname-&amp;-CustomerID\" data-toc-modified-id=\"Surname-&amp;-CustomerID-2\"><span class=\"toc-item-num\">2&nbsp;&nbsp;</span>Surname &amp; CustomerID</a></span></li><li><span><a href=\"#Обработка-параметров-Geography-и-Gender-методом-OHE\" data-toc-modified-id=\"Обработка-параметров-Geography-и-Gender-методом-OHE-3\"><span class=\"toc-item-num\">3&nbsp;&nbsp;</span>Обработка параметров Geography и Gender методом OHE</a></span></li><li><span><a href=\"#Нормализация-данных\" data-toc-modified-id=\"Нормализация-данных-4\"><span class=\"toc-item-num\">4&nbsp;&nbsp;</span>Нормализация данных</a></span><ul class=\"toc-item\"><li><span><a href=\"#Декодирование-методом-OHE\" data-toc-modified-id=\"Декодирование-методом-OHE-4.1\"><span class=\"toc-item-num\">4.1&nbsp;&nbsp;</span>Декодирование методом OHE</a></span></li><li><span><a href=\"#Нормализация-данных-с-помощью-StandartScaler\" data-toc-modified-id=\"Нормализация-данных-с-помощью-StandartScaler-4.2\"><span class=\"toc-item-num\">4.2&nbsp;&nbsp;</span>Нормализация данных с помощью StandartScaler</a></span></li><li><span><a href=\"#Помощник-в-тонкой-настройке-и-валидации-модели\" data-toc-modified-id=\"Помощник-в-тонкой-настройке-и-валидации-модели-4.3\"><span class=\"toc-item-num\">4.3&nbsp;&nbsp;</span>Помощник в тонкой настройке и валидации модели</a></span></li></ul></li><li><span><a href=\"#Выбор-модели\" data-toc-modified-id=\"Выбор-модели-5\"><span class=\"toc-item-num\">5&nbsp;&nbsp;</span>Выбор модели</a></span><ul class=\"toc-item\"><li><span><a href=\"#LogisticRegression\" data-toc-modified-id=\"LogisticRegression-5.1\"><span class=\"toc-item-num\">5.1&nbsp;&nbsp;</span>LogisticRegression</a></span></li><li><span><a href=\"#RandomForestClassifier\" data-toc-modified-id=\"RandomForestClassifier-5.2\"><span class=\"toc-item-num\">5.2&nbsp;&nbsp;</span>RandomForestClassifier</a></span></li></ul></li><li><span><a href=\"#Использование-метода-upsampling\" data-toc-modified-id=\"Использование-метода-upsampling-6\"><span class=\"toc-item-num\">6&nbsp;&nbsp;</span>Использование метода upsampling</a></span><ul class=\"toc-item\"><li><span><a href=\"#Краткий-вывод\" data-toc-modified-id=\"Краткий-вывод-6.1\"><span class=\"toc-item-num\">6.1&nbsp;&nbsp;</span>Краткий вывод</a></span></li></ul></li><li><span><a href=\"#Использование-метода-Downsampling\" data-toc-modified-id=\"Использование-метода-Downsampling-7\"><span class=\"toc-item-num\">7&nbsp;&nbsp;</span>Использование метода Downsampling</a></span></li><li><span><a href=\"#Выбранная-модель-для-тестирования:\" data-toc-modified-id=\"Выбранная-модель-для-тестирования:-8\"><span class=\"toc-item-num\">8&nbsp;&nbsp;</span>Выбранная модель для тестирования:</a></span></li><li><span><a href=\"#Проверка-модели-на-тестовой-выборке\" data-toc-modified-id=\"Проверка-модели-на-тестовой-выборке-9\"><span class=\"toc-item-num\">9&nbsp;&nbsp;</span>Проверка модели на тестовой выборке</a></span></li><li><span><a href=\"#Проверка-на-адекватность\" data-toc-modified-id=\"Проверка-на-адекватность-10\"><span class=\"toc-item-num\">10&nbsp;&nbsp;</span>Проверка на адекватность</a></span></li></ul></div>"
   ]
  },
  {
   "cell_type": "markdown",
   "metadata": {},
   "source": [
    "# Отток клиентов"
   ]
  },
  {
   "cell_type": "markdown",
   "metadata": {},
   "source": [
    "Из «Бета-Банка» стали уходить клиенты. Каждый месяц. Немного, но заметно. Банковские маркетологи посчитали: сохранять текущих клиентов дешевле, чем привлекать новых.\n",
    "\n",
    "Нужно спрогнозировать, уйдёт клиент из банка в ближайшее время или нет. Вам предоставлены исторические данные о поведении клиентов и расторжении договоров с банком. \n",
    "\n",
    "Постройте модель с предельно большим значением *F1*-меры. Чтобы сдать проект успешно, нужно довести метрику до 0.59. Проверьте *F1*-меру на тестовой выборке самостоятельно.\n",
    "\n",
    "Дополнительно измеряйте *AUC-ROC*, сравнивайте её значение с *F1*-мерой.\n",
    "\n",
    "Источник данных: [https://www.kaggle.com/barelydedicated/bank-customer-churn-modeling](https://www.kaggle.com/barelydedicated/bank-customer-churn-modeling)"
   ]
  },
  {
   "cell_type": "markdown",
   "metadata": {},
   "source": [
    "# Описание проекта"
   ]
  },
  {
   "cell_type": "markdown",
   "metadata": {},
   "source": [
    "В рамках проекта поставлена задача обучить модель, которая будет прогнозировать вероятность ухода клиента на основании представленных параметров. \\\n",
    "В целях достижения результата будет исследовано несколько регрессионных моделей и выбрана с наибольшим результатом. \\\n",
    "Достижением поставленной цели будет являться обучение модели с показателем F1 не менее 0,59 \n"
   ]
  },
  {
   "cell_type": "markdown",
   "metadata": {},
   "source": [
    "# Описание полей датасета"
   ]
  },
  {
   "cell_type": "markdown",
   "metadata": {},
   "source": [
    "|Признак|Описание признака|\n",
    "|-------|-----------------|\n",
    "|RowNumber|индекс строки в данных|\n",
    "|CustomerId|уникальный идентификатор клиента|\n",
    "|Surname|фамилия|\n",
    "|CreditScore|кредитный рейтинг|\n",
    "|Geography|страна проживания|\n",
    "|Gender|пол|\n",
    "|Age|возраст|\n",
    "|Tenure|сколько лет человек является клиентом банка|\n",
    "|Balance|баланс на счёте|\n",
    "|NumOfProducts|количество продуктов банка, используемых клиентом|\n",
    "|HasCrCard|наличие кредитной карты|\n",
    "|IsActiveMember|активность клиента|\n",
    "|EstimatedSalary|предполагаемая зарплата|\n",
    "|---------------|-----------|\n",
    "|Целевой признак|\n",
    "|Exited|факт ухода клиента|\n"
   ]
  },
  {
   "cell_type": "markdown",
   "metadata": {},
   "source": [
    "# Подготовка данных"
   ]
  },
  {
   "cell_type": "code",
   "execution_count": 1,
   "metadata": {
    "tags": []
   },
   "outputs": [],
   "source": [
    "import pandas as pd\n",
    "import numpy as np\n",
    "import seaborn as sns\n",
    "from sklearn.ensemble import RandomForestClassifier\n",
    "from sklearn.linear_model import LogisticRegression\n",
    "from sklearn.metrics import (f1_score, roc_auc_score, roc_curve, \n",
    "                             confusion_matrix, precision_score, recall_score)\n",
    "from sklearn.preprocessing import StandardScaler, OneHotEncoder\n",
    "from sklearn.model_selection import train_test_split\n",
    "from matplotlib import pyplot as plt\n",
    "from sklearn.utils import shuffle\n",
    "from imblearn.over_sampling import SMOTE\n",
    "from imblearn.under_sampling import RandomUnderSampler\n",
    "from sklearn.dummy import DummyClassifier\n",
    "\n",
    "import warnings\n",
    "\n"
   ]
  },
  {
   "cell_type": "code",
   "execution_count": 2,
   "metadata": {
    "tags": []
   },
   "outputs": [],
   "source": [
    "warnings.simplefilter(action='ignore', category=FutureWarning)\n",
    "warnings.filterwarnings('ignore')"
   ]
  },
  {
   "cell_type": "code",
   "execution_count": 3,
   "metadata": {
    "tags": []
   },
   "outputs": [
    {
     "name": "stderr",
     "output_type": "stream",
     "text": [
      "\"pip\" ­Ґ пў«пҐвбп ў­гваҐ­­Ґ© Ё«Ё ў­Ґи­Ґ©\n",
      "Є®¬ ­¤®©, ЁбЇ®«­пҐ¬®© Їа®Ја ¬¬®© Ё«Ё Ї ЄҐв­л¬ д ©«®¬.\n"
     ]
    }
   ],
   "source": [
    "!pip install scikit-learn==1.1.3"
   ]
  },
  {
   "cell_type": "code",
   "execution_count": 4,
   "metadata": {
    "tags": []
   },
   "outputs": [
    {
     "name": "stderr",
     "output_type": "stream",
     "text": [
      "\"pip\" ­Ґ пў«пҐвбп ў­гваҐ­­Ґ© Ё«Ё ў­Ґи­Ґ©\n",
      "Є®¬ ­¤®©, ЁбЇ®«­пҐ¬®© Їа®Ја ¬¬®© Ё«Ё Ї ЄҐв­л¬ д ©«®¬.\n"
     ]
    }
   ],
   "source": [
    "!pip install imblearn"
   ]
  },
  {
   "cell_type": "markdown",
   "metadata": {},
   "source": [
    "<div class=\"alert alert-warning\">\n",
    "<h2> Комментарий ревьюера <a class=\"tocSkip\"> </h2>\n",
    "    \n",
    "<b>Некоторые замечания и рекомендации💡:</b> \n",
    "    \n",
    "Все ли импорты нужны? У нас задача классификации, а mean_absolute_error относится к задаче регрессии. \n",
    "    \n",
    "***\n",
    "\n",
    "Здесь было бы идеально привести оформление в соответствие с <a href=\"https://pythonworld.ru/osnovy/pep-8-rukovodstvo-po-napisaniyu-koda-na-python.html\">pep8</a> - не оставлять длинных строк. \n",
    "\n",
    "Такое оформление предпочтительнее в случае, если перечисляем больше трех функций:    \n",
    "    \n",
    "`from sklearn.metrics import (\n",
    "    accuracy_score, \n",
    "    confusion_matrix, \n",
    "    f1_score, \n",
    "    precision_score,\n",
    "    recall_score,\n",
    "    roc_auc_score,\n",
    "    roc_curve\n",
    ")`    \n",
    "        \n",
    "</div>\n"
   ]
  },
  {
   "cell_type": "markdown",
   "metadata": {},
   "source": [
    "<div class=\"alert alert-info\">\n",
    "Исправлено, спасибо!\n",
    "</div>"
   ]
  },
  {
   "cell_type": "code",
   "execution_count": 5,
   "metadata": {
    "tags": []
   },
   "outputs": [],
   "source": [
    "try:\n",
    "    try:\n",
    "        df = pd.read_csv('/home/user/projects/practicum/datasets/Churn.csv', index_col='RowNumber')\n",
    "    except:\n",
    "        df = pd.read_csv('datasets/Churn.csv', index_col='RowNumber')\n",
    "except:\n",
    "    df = pd.read_csv('/datasets/Churn.csv', index_col='RowNumber')\n"
   ]
  },
  {
   "cell_type": "markdown",
   "metadata": {},
   "source": [
    "<div class=\"alert alert-success\">\n",
    "<h2> Комментарий ревьюера <a class=\"tocSkip\"> </h2>\n",
    " \n",
    "👍 Отлично, хотя я бы в индекс поместил CustomerId, потому что в перспективе так будет легче найти клиента, которого модель определит как <s>склонного к побегу</s> намеревающегося прекратить обслуживание в банке.\n",
    "</div>  \n"
   ]
  },
  {
   "cell_type": "markdown",
   "metadata": {},
   "source": [
    "<div class=\"alert alert-info\">\n",
    "Мы потом CustomerID удалим, поэтому оставил как есть\n",
    "</div>"
   ]
  },
  {
   "cell_type": "markdown",
   "metadata": {},
   "source": [
    "<div class=\"alert alert-success\">\n",
    "<h2> Комментарий ревьюера #2 <a class=\"tocSkip\"> </h2>\n",
    "\n",
    "👍 Да, я помню. Я просто о том, что ценнее оставить айдишники.\n",
    "</div>\n"
   ]
  },
  {
   "cell_type": "markdown",
   "metadata": {},
   "source": [
    "Изучим данные, определим категориальные параметры, выборосы и пропуски"
   ]
  },
  {
   "cell_type": "code",
   "execution_count": 6,
   "metadata": {
    "tags": []
   },
   "outputs": [
    {
     "data": {
      "text/html": [
       "<div>\n",
       "<style scoped>\n",
       "    .dataframe tbody tr th:only-of-type {\n",
       "        vertical-align: middle;\n",
       "    }\n",
       "\n",
       "    .dataframe tbody tr th {\n",
       "        vertical-align: top;\n",
       "    }\n",
       "\n",
       "    .dataframe thead th {\n",
       "        text-align: right;\n",
       "    }\n",
       "</style>\n",
       "<table border=\"1\" class=\"dataframe\">\n",
       "  <thead>\n",
       "    <tr style=\"text-align: right;\">\n",
       "      <th></th>\n",
       "      <th>CustomerId</th>\n",
       "      <th>Surname</th>\n",
       "      <th>CreditScore</th>\n",
       "      <th>Geography</th>\n",
       "      <th>Gender</th>\n",
       "      <th>Age</th>\n",
       "      <th>Tenure</th>\n",
       "      <th>Balance</th>\n",
       "      <th>NumOfProducts</th>\n",
       "      <th>HasCrCard</th>\n",
       "      <th>IsActiveMember</th>\n",
       "      <th>EstimatedSalary</th>\n",
       "      <th>Exited</th>\n",
       "    </tr>\n",
       "    <tr>\n",
       "      <th>RowNumber</th>\n",
       "      <th></th>\n",
       "      <th></th>\n",
       "      <th></th>\n",
       "      <th></th>\n",
       "      <th></th>\n",
       "      <th></th>\n",
       "      <th></th>\n",
       "      <th></th>\n",
       "      <th></th>\n",
       "      <th></th>\n",
       "      <th></th>\n",
       "      <th></th>\n",
       "      <th></th>\n",
       "    </tr>\n",
       "  </thead>\n",
       "  <tbody>\n",
       "    <tr>\n",
       "      <th>1</th>\n",
       "      <td>15634602</td>\n",
       "      <td>Hargrave</td>\n",
       "      <td>619</td>\n",
       "      <td>France</td>\n",
       "      <td>Female</td>\n",
       "      <td>42</td>\n",
       "      <td>2.0</td>\n",
       "      <td>0.00</td>\n",
       "      <td>1</td>\n",
       "      <td>1</td>\n",
       "      <td>1</td>\n",
       "      <td>101348.88</td>\n",
       "      <td>1</td>\n",
       "    </tr>\n",
       "    <tr>\n",
       "      <th>2</th>\n",
       "      <td>15647311</td>\n",
       "      <td>Hill</td>\n",
       "      <td>608</td>\n",
       "      <td>Spain</td>\n",
       "      <td>Female</td>\n",
       "      <td>41</td>\n",
       "      <td>1.0</td>\n",
       "      <td>83807.86</td>\n",
       "      <td>1</td>\n",
       "      <td>0</td>\n",
       "      <td>1</td>\n",
       "      <td>112542.58</td>\n",
       "      <td>0</td>\n",
       "    </tr>\n",
       "    <tr>\n",
       "      <th>3</th>\n",
       "      <td>15619304</td>\n",
       "      <td>Onio</td>\n",
       "      <td>502</td>\n",
       "      <td>France</td>\n",
       "      <td>Female</td>\n",
       "      <td>42</td>\n",
       "      <td>8.0</td>\n",
       "      <td>159660.80</td>\n",
       "      <td>3</td>\n",
       "      <td>1</td>\n",
       "      <td>0</td>\n",
       "      <td>113931.57</td>\n",
       "      <td>1</td>\n",
       "    </tr>\n",
       "    <tr>\n",
       "      <th>4</th>\n",
       "      <td>15701354</td>\n",
       "      <td>Boni</td>\n",
       "      <td>699</td>\n",
       "      <td>France</td>\n",
       "      <td>Female</td>\n",
       "      <td>39</td>\n",
       "      <td>1.0</td>\n",
       "      <td>0.00</td>\n",
       "      <td>2</td>\n",
       "      <td>0</td>\n",
       "      <td>0</td>\n",
       "      <td>93826.63</td>\n",
       "      <td>0</td>\n",
       "    </tr>\n",
       "    <tr>\n",
       "      <th>5</th>\n",
       "      <td>15737888</td>\n",
       "      <td>Mitchell</td>\n",
       "      <td>850</td>\n",
       "      <td>Spain</td>\n",
       "      <td>Female</td>\n",
       "      <td>43</td>\n",
       "      <td>2.0</td>\n",
       "      <td>125510.82</td>\n",
       "      <td>1</td>\n",
       "      <td>1</td>\n",
       "      <td>1</td>\n",
       "      <td>79084.10</td>\n",
       "      <td>0</td>\n",
       "    </tr>\n",
       "  </tbody>\n",
       "</table>\n",
       "</div>"
      ],
      "text/plain": [
       "           CustomerId   Surname  CreditScore Geography  Gender  Age  Tenure  \\\n",
       "RowNumber                                                                     \n",
       "1            15634602  Hargrave          619    France  Female   42     2.0   \n",
       "2            15647311      Hill          608     Spain  Female   41     1.0   \n",
       "3            15619304      Onio          502    France  Female   42     8.0   \n",
       "4            15701354      Boni          699    France  Female   39     1.0   \n",
       "5            15737888  Mitchell          850     Spain  Female   43     2.0   \n",
       "\n",
       "             Balance  NumOfProducts  HasCrCard  IsActiveMember  \\\n",
       "RowNumber                                                        \n",
       "1               0.00              1          1               1   \n",
       "2           83807.86              1          0               1   \n",
       "3          159660.80              3          1               0   \n",
       "4               0.00              2          0               0   \n",
       "5          125510.82              1          1               1   \n",
       "\n",
       "           EstimatedSalary  Exited  \n",
       "RowNumber                           \n",
       "1                101348.88       1  \n",
       "2                112542.58       0  \n",
       "3                113931.57       1  \n",
       "4                 93826.63       0  \n",
       "5                 79084.10       0  "
      ]
     },
     "execution_count": 6,
     "metadata": {},
     "output_type": "execute_result"
    }
   ],
   "source": [
    "df.head()"
   ]
  },
  {
   "cell_type": "code",
   "execution_count": 7,
   "metadata": {
    "tags": []
   },
   "outputs": [
    {
     "name": "stdout",
     "output_type": "stream",
     "text": [
      "<class 'pandas.core.frame.DataFrame'>\n",
      "Int64Index: 10000 entries, 1 to 10000\n",
      "Data columns (total 13 columns):\n",
      " #   Column           Non-Null Count  Dtype  \n",
      "---  ------           --------------  -----  \n",
      " 0   CustomerId       10000 non-null  int64  \n",
      " 1   Surname          10000 non-null  object \n",
      " 2   CreditScore      10000 non-null  int64  \n",
      " 3   Geography        10000 non-null  object \n",
      " 4   Gender           10000 non-null  object \n",
      " 5   Age              10000 non-null  int64  \n",
      " 6   Tenure           9091 non-null   float64\n",
      " 7   Balance          10000 non-null  float64\n",
      " 8   NumOfProducts    10000 non-null  int64  \n",
      " 9   HasCrCard        10000 non-null  int64  \n",
      " 10  IsActiveMember   10000 non-null  int64  \n",
      " 11  EstimatedSalary  10000 non-null  float64\n",
      " 12  Exited           10000 non-null  int64  \n",
      "dtypes: float64(3), int64(7), object(3)\n",
      "memory usage: 1.1+ MB\n"
     ]
    }
   ],
   "source": [
    "df.info()"
   ]
  },
  {
   "cell_type": "markdown",
   "metadata": {},
   "source": [
    "Первый взгляд на данные показал:\n",
    "1. В датасете присутствуют категориальные данные, которые потребуют обработки с использованием метода OHE:\n",
    "    - Geography\n",
    "    - Gender\n",
    "\n",
    "2. В параметре Tenure обнаружено 909 пропусков, в следующих шагах будет принято решение о стратегии обработки\n",
    "3. Датасет содержит данные о фамилиях, стратегия использования данного параметра будет определена в следующих шагах\n"
   ]
  },
  {
   "cell_type": "markdown",
   "metadata": {},
   "source": [
    "## Обработка параметра Tenure"
   ]
  },
  {
   "cell_type": "code",
   "execution_count": 8,
   "metadata": {
    "tags": []
   },
   "outputs": [
    {
     "data": {
      "text/plain": [
       "1.0     952\n",
       "2.0     950\n",
       "8.0     933\n",
       "3.0     928\n",
       "5.0     927\n",
       "7.0     925\n",
       "4.0     885\n",
       "9.0     882\n",
       "6.0     881\n",
       "10.0    446\n",
       "0.0     382\n",
       "Name: Tenure, dtype: int64"
      ]
     },
     "execution_count": 8,
     "metadata": {},
     "output_type": "execute_result"
    }
   ],
   "source": [
    "df.Tenure.value_counts()"
   ]
  },
  {
   "cell_type": "code",
   "execution_count": 9,
   "metadata": {
    "tags": []
   },
   "outputs": [
    {
     "data": {
      "text/plain": [
       "Geography\n",
       "France     0.092541\n",
       "Germany    0.086090\n",
       "Spain      0.092451\n",
       "Name: Geography, dtype: float64"
      ]
     },
     "execution_count": 9,
     "metadata": {},
     "output_type": "execute_result"
    }
   ],
   "source": [
    "df[df.Tenure.isna()].groupby('Geography').Geography.count() / df.groupby('Geography').Geography.count()"
   ]
  },
  {
   "cell_type": "code",
   "execution_count": 10,
   "metadata": {
    "tags": []
   },
   "outputs": [
    {
     "data": {
      "text/plain": [
       "1.0     0.104719\n",
       "2.0     0.104499\n",
       "8.0     0.102629\n",
       "3.0     0.102079\n",
       "5.0     0.101969\n",
       "7.0     0.101749\n",
       "4.0     0.097349\n",
       "9.0     0.097019\n",
       "6.0     0.096909\n",
       "10.0    0.049060\n",
       "0.0     0.042020\n",
       "Name: Tenure, dtype: float64"
      ]
     },
     "execution_count": 10,
     "metadata": {},
     "output_type": "execute_result"
    }
   ],
   "source": [
    "df.Tenure.value_counts() / df.Tenure.count()"
   ]
  },
  {
   "cell_type": "markdown",
   "metadata": {},
   "source": [
    "Расчеты показали, что пропуски срока сотрудничества с банком также сконцентрированы в районе 10% для каждого региона. \\\n",
    "Как видно из расчетов, количество клиентов по срокам сотрудничества с банком распределено в районе 10% на каждую категорию. \\\n",
    "Исключения составляют клиенты со сроком сотрудничества 0 и 10 лет. \\\n",
    "Будем исходить из того, что клиентов с длительным сроком сотрудничества с банком должно быть меньше, чем в остальных категориях, соответственно, предположим, что все пропуски относятся к новым клиентам до 1 года."
   ]
  },
  {
   "cell_type": "code",
   "execution_count": 11,
   "metadata": {
    "tags": []
   },
   "outputs": [],
   "source": [
    "df['Tenure'] = df.Tenure.fillna(df.Tenure.median())"
   ]
  },
  {
   "cell_type": "markdown",
   "metadata": {},
   "source": [
    "<div class=\"alert alert-block alert-danger\">\n",
    "<h2> <s>Комментарий ревьюера <a class=\"tocSkip\"></h2>\n",
    "  \n",
    "<b>На доработку🤔:</b>\n",
    " \n",
    "Предположение, что пропуски там, где клиент пришел недавно достаточно неплохое. Но подтвердить его сейчас мы не можем. Поэтому лучше следовать принципу, что следующие данные будут такими же по распределению, как текущие, и лучшей тактикой минимизации ошибки будет значение из области наибольшей плотности распределения, не изменяющую структуры распределения признака. \n",
    "    \n",
    "Доля пропусков не критично велика, возможно и решение с удалением. Однако данных у нас не много, я бы остановился на чем-то вроде медианы.\n",
    "\n",
    "</div>\n"
   ]
  },
  {
   "cell_type": "markdown",
   "metadata": {},
   "source": [
    "<div class=\"alert alert-info\">\n",
    "Исправлено, спасибо!\n",
    "</div>"
   ]
  },
  {
   "cell_type": "code",
   "execution_count": 12,
   "metadata": {
    "tags": []
   },
   "outputs": [
    {
     "data": {
      "text/plain": [
       "0"
      ]
     },
     "execution_count": 12,
     "metadata": {},
     "output_type": "execute_result"
    }
   ],
   "source": [
    "df.Tenure.isna().sum()"
   ]
  },
  {
   "cell_type": "markdown",
   "metadata": {},
   "source": [
    "## Surname & CustomerID"
   ]
  },
  {
   "cell_type": "markdown",
   "metadata": {},
   "source": [
    "В рамках исследования данный параметр не несет смысловой нагрузки в связи с этим принято решение исключить его из датасета"
   ]
  },
  {
   "cell_type": "code",
   "execution_count": 13,
   "metadata": {
    "tags": []
   },
   "outputs": [],
   "source": [
    "df = df.drop(['Surname', 'CustomerId'], axis=1)"
   ]
  },
  {
   "cell_type": "markdown",
   "metadata": {},
   "source": [
    "<div class=\"alert alert-block alert-danger\">\n",
    "<h2><s> Комментарий ревьюера <a class=\"tocSkip\"></h2>\n",
    "  \n",
    "<b>На доработку🤔:</b>\n",
    " \n",
    "С этим столбцом верно, но важно здесь же удалить тогда и айдишники, они тоже не влияют на таргет. Вряд ли вероятность ухода клиента связана с тем, какой у него Id. \n",
    "\n",
    "</div>"
   ]
  },
  {
   "cell_type": "markdown",
   "metadata": {},
   "source": [
    "<div class=\"alert alert-info\">\n",
    "Исправлено, спасибо!\n",
    "</div>"
   ]
  },
  {
   "cell_type": "markdown",
   "metadata": {},
   "source": [
    "## Обработка параметров Geography и Gender методом OHE"
   ]
  },
  {
   "cell_type": "code",
   "execution_count": 14,
   "metadata": {
    "tags": []
   },
   "outputs": [],
   "source": [
    "df_ohe_p = pd.get_dummies(df, drop_first=True)"
   ]
  },
  {
   "cell_type": "markdown",
   "metadata": {},
   "source": [
    "<div class=\"alert alert-success\">\n",
    "<h2> Комментарий ревьюера <a class=\"tocSkip\"> </h2>\n",
    "\n",
    "👍 Согласен. В дамми-ловушку не попались.\n",
    "</div>\n"
   ]
  },
  {
   "cell_type": "markdown",
   "metadata": {},
   "source": [
    "<div class=\"alert alert-warning\">\n",
    "<h2> Комментарий ревьюера <a class=\"tocSkip\"> </h2>\n",
    "    \n",
    "<b>Некоторые замечания и рекомендации💡:</b> \n",
    "\n",
    "В тренажере давался пример использования прямого кодирования с помощью get_dummies, однако это далеко не самый оптимальный вариант. Он подходит для анализа данных, но в машинном обучении может служить причиной ошибок при обучении моделей.\n",
    "    \n",
    "Можно использовать класс <a href=\"https://scikit-learn.org/stable/modules/generated/sklearn.preprocessing.OneHotEncoder.html\">OHE из sklearn</a>. Он точно понадобится в будущих проектах, можно потренироваться сейчас. \n",
    "\n",
    "Практикум подготовил инструкцию, как использовать OHE: https://colab.research.google.com/drive/1_gAMXcQKoCShB_l8FNtYEejMnosm9mvt?usp=sharing \n",
    "\n",
    "А теперь замечания «под звездочкой»:\n",
    "\n",
    "Есть загвоздка, что нам нужно будет одновременно использовать параметры drop='first' и handle_unknown='ignore’.  в OHE, а на платформе такое сочетание может выдавать ошибку (в части случаев). Если ошибка появляется, необходимо загрузить нужную версию сайкит-лерна. Для этого:\n",
    "\n",
    "1. В отдельной строке в самом начале проекта запускаем такую команду:\n",
    " `!pip install scikit-learn==1.1.3`\n",
    "     \n",
    "2. Находим в меню юпитера кнопку `Kernel`, нажимаем и выбираем Restart&Run all \n",
    "\n",
    "\n",
    "И сразу уточню, что OHE мы используем уже после разделения выборок на обучающую, валидационную и тестовую. Обучаем на трейне, применяем ко всем. Кодируем после разбиения по аналогии с масштабированием. Посмотреть поподробнее также <a href=\"https://stackoverflow.com/questions/55525195/do-i-have-to-do-one-hot-encoding-separately-for-train-and-test-dataset\">можно здесь</a> .\n",
    "      \n",
    "</div> \n"
   ]
  },
  {
   "cell_type": "markdown",
   "metadata": {},
   "source": [
    "<div class=\"alert alert-info\">\n",
    "Ооокей, попробуем ниже\n",
    "</div>"
   ]
  },
  {
   "cell_type": "code",
   "execution_count": 15,
   "metadata": {
    "tags": []
   },
   "outputs": [
    {
     "data": {
      "text/plain": [
       "Index(['CreditScore', 'Age', 'Tenure', 'Balance', 'NumOfProducts', 'HasCrCard',\n",
       "       'IsActiveMember', 'EstimatedSalary', 'Exited', 'Geography_Germany',\n",
       "       'Geography_Spain', 'Gender_Male'],\n",
       "      dtype='object')"
      ]
     },
     "execution_count": 15,
     "metadata": {},
     "output_type": "execute_result"
    }
   ],
   "source": [
    "df_ohe_p.columns"
   ]
  },
  {
   "cell_type": "markdown",
   "metadata": {},
   "source": [
    "# Исследование задачи"
   ]
  },
  {
   "cell_type": "code",
   "execution_count": 16,
   "metadata": {
    "tags": []
   },
   "outputs": [
    {
     "data": {
      "text/plain": [
       "0    0.7963\n",
       "1    0.2037\n",
       "Name: Exited, dtype: float64"
      ]
     },
     "execution_count": 16,
     "metadata": {},
     "output_type": "execute_result"
    }
   ],
   "source": [
    "df_ohe_p.Exited.value_counts(normalize=True)"
   ]
  },
  {
   "cell_type": "markdown",
   "metadata": {},
   "source": [
    "В данных присутствует существенный дисбаланс в сторону клиентов, сотрудничество с которыми было прекращено. \\\n",
    "На первом этапе ни каких действий с данным дисбалансом проводиться не будет"
   ]
  },
  {
   "cell_type": "markdown",
   "metadata": {},
   "source": [
    "\n",
    "<div class=\"alert alert-success\">\n",
    "<h2> Комментарий ревьюера <a class=\"tocSkip\"> </h2>\n",
    "\n",
    "👍 Дисбаланс исследовали. Да, он достаточно сильный, чтобы негативно повлиять на качество моделей.\n",
    "    \n",
    "Да, по ТЗ мы должны исследовать модели без учета дисбаланса тоже.\n",
    "</div> "
   ]
  },
  {
   "cell_type": "markdown",
   "metadata": {},
   "source": [
    "Разделяем выборку  на обучающую и валидационну"
   ]
  },
  {
   "cell_type": "code",
   "execution_count": 17,
   "metadata": {
    "tags": []
   },
   "outputs": [],
   "source": [
    "features = df.drop(['Exited'], axis=1)\n",
    "target = df.Exited\n",
    "\n",
    "features_train, features_val, target_train, target_val = train_test_split(\n",
    "    features, \n",
    "    target, \n",
    "    test_size=0.20, \n",
    "    random_state=2)"
   ]
  },
  {
   "cell_type": "markdown",
   "metadata": {},
   "source": [
    "Разбиваем выборку на тестовую и обучающую"
   ]
  },
  {
   "cell_type": "code",
   "execution_count": 18,
   "metadata": {
    "tags": []
   },
   "outputs": [],
   "source": [
    "features_train, features_test, target_train, target_test = train_test_split(\n",
    "    features_train, \n",
    "    target_train, \n",
    "    test_size=0.25, \n",
    "    random_state=2)"
   ]
  },
  {
   "cell_type": "code",
   "execution_count": 19,
   "metadata": {
    "tags": []
   },
   "outputs": [
    {
     "data": {
      "text/plain": [
       "0.6"
      ]
     },
     "execution_count": 19,
     "metadata": {},
     "output_type": "execute_result"
    }
   ],
   "source": [
    "features_train.shape[0]/features.shape[0]"
   ]
  },
  {
   "cell_type": "code",
   "execution_count": 20,
   "metadata": {},
   "outputs": [
    {
     "name": "stdout",
     "output_type": "stream",
     "text": [
      "Размер тренировочной выборки: 6000 (0.6)\n",
      "Размер валидационной выборки: 2000 (0.2)\n",
      "Размер тестовой выборки: 2000 (0.2)\n"
     ]
    }
   ],
   "source": [
    "print(f'Размер тренировочной выборки: {features_train.shape[0]} ({ features_train.shape[0] / df.shape[0]})')\n",
    "print(f'Размер валидационной выборки: {features_val.shape[0]} ({ features_val.shape[0] / df.shape[0]})')\n",
    "print(f'Размер тестовой выборки: {features_test.shape[0]} ({ features_test.shape[0] / df.shape[0]})')"
   ]
  },
  {
   "cell_type": "markdown",
   "metadata": {},
   "source": [
    "<div class=\"alert alert-success\">\n",
    "<h2> Комментарий ревьюера <a class=\"tocSkip\"> </h2>\n",
    "\n",
    "👍 Всё верно. Единственное, я бы вывел информацию и о количестве колонок тоже. Иногда это помогает заметить ошибки.\n",
    "</div>  \n"
   ]
  },
  {
   "cell_type": "markdown",
   "metadata": {},
   "source": [
    "## Нормализация данных"
   ]
  },
  {
   "cell_type": "markdown",
   "metadata": {},
   "source": [
    "### Декодирование методом OHE"
   ]
  },
  {
   "cell_type": "code",
   "execution_count": 21,
   "metadata": {
    "tags": []
   },
   "outputs": [
    {
     "name": "stdout",
     "output_type": "stream",
     "text": [
      "['Geography', 'Gender']\n"
     ]
    }
   ],
   "source": [
    "categories_column = features_train.select_dtypes(include='object').columns.to_list()\n",
    "\n",
    "print(categories_column)"
   ]
  },
  {
   "cell_type": "code",
   "execution_count": 22,
   "metadata": {
    "tags": []
   },
   "outputs": [],
   "source": [
    "encoder_ohe = OneHotEncoder(drop='first', handle_unknown='ignore', sparse=False)\n",
    "encoder_ohe.fit(features_train[categories_column])\n",
    "features_train[encoder_ohe.get_feature_names_out()] = encoder_ohe.transform(features_train[categories_column])\n",
    "\n",
    "features_train = features_train.drop(categories_column, axis=1)"
   ]
  },
  {
   "cell_type": "code",
   "execution_count": 23,
   "metadata": {
    "tags": []
   },
   "outputs": [
    {
     "data": {
      "text/html": [
       "<div>\n",
       "<style scoped>\n",
       "    .dataframe tbody tr th:only-of-type {\n",
       "        vertical-align: middle;\n",
       "    }\n",
       "\n",
       "    .dataframe tbody tr th {\n",
       "        vertical-align: top;\n",
       "    }\n",
       "\n",
       "    .dataframe thead th {\n",
       "        text-align: right;\n",
       "    }\n",
       "</style>\n",
       "<table border=\"1\" class=\"dataframe\">\n",
       "  <thead>\n",
       "    <tr style=\"text-align: right;\">\n",
       "      <th></th>\n",
       "      <th>CreditScore</th>\n",
       "      <th>Age</th>\n",
       "      <th>Tenure</th>\n",
       "      <th>Balance</th>\n",
       "      <th>NumOfProducts</th>\n",
       "      <th>HasCrCard</th>\n",
       "      <th>IsActiveMember</th>\n",
       "      <th>EstimatedSalary</th>\n",
       "      <th>Geography_Germany</th>\n",
       "      <th>Geography_Spain</th>\n",
       "      <th>Gender_Male</th>\n",
       "    </tr>\n",
       "    <tr>\n",
       "      <th>RowNumber</th>\n",
       "      <th></th>\n",
       "      <th></th>\n",
       "      <th></th>\n",
       "      <th></th>\n",
       "      <th></th>\n",
       "      <th></th>\n",
       "      <th></th>\n",
       "      <th></th>\n",
       "      <th></th>\n",
       "      <th></th>\n",
       "      <th></th>\n",
       "    </tr>\n",
       "  </thead>\n",
       "  <tbody>\n",
       "    <tr>\n",
       "      <th>9668</th>\n",
       "      <td>596</td>\n",
       "      <td>37</td>\n",
       "      <td>2.0</td>\n",
       "      <td>0.00</td>\n",
       "      <td>1</td>\n",
       "      <td>0</td>\n",
       "      <td>1</td>\n",
       "      <td>121175.86</td>\n",
       "      <td>0.0</td>\n",
       "      <td>0.0</td>\n",
       "      <td>1.0</td>\n",
       "    </tr>\n",
       "    <tr>\n",
       "      <th>3579</th>\n",
       "      <td>704</td>\n",
       "      <td>39</td>\n",
       "      <td>1.0</td>\n",
       "      <td>124640.51</td>\n",
       "      <td>1</td>\n",
       "      <td>1</td>\n",
       "      <td>0</td>\n",
       "      <td>116511.12</td>\n",
       "      <td>1.0</td>\n",
       "      <td>0.0</td>\n",
       "      <td>0.0</td>\n",
       "    </tr>\n",
       "    <tr>\n",
       "      <th>218</th>\n",
       "      <td>730</td>\n",
       "      <td>33</td>\n",
       "      <td>5.0</td>\n",
       "      <td>0.00</td>\n",
       "      <td>2</td>\n",
       "      <td>0</td>\n",
       "      <td>0</td>\n",
       "      <td>176576.62</td>\n",
       "      <td>0.0</td>\n",
       "      <td>1.0</td>\n",
       "      <td>0.0</td>\n",
       "    </tr>\n",
       "    <tr>\n",
       "      <th>6009</th>\n",
       "      <td>767</td>\n",
       "      <td>24</td>\n",
       "      <td>5.0</td>\n",
       "      <td>0.00</td>\n",
       "      <td>2</td>\n",
       "      <td>1</td>\n",
       "      <td>1</td>\n",
       "      <td>67445.85</td>\n",
       "      <td>0.0</td>\n",
       "      <td>1.0</td>\n",
       "      <td>0.0</td>\n",
       "    </tr>\n",
       "    <tr>\n",
       "      <th>6179</th>\n",
       "      <td>850</td>\n",
       "      <td>40</td>\n",
       "      <td>4.0</td>\n",
       "      <td>97990.49</td>\n",
       "      <td>2</td>\n",
       "      <td>0</td>\n",
       "      <td>0</td>\n",
       "      <td>106691.02</td>\n",
       "      <td>1.0</td>\n",
       "      <td>0.0</td>\n",
       "      <td>0.0</td>\n",
       "    </tr>\n",
       "  </tbody>\n",
       "</table>\n",
       "</div>"
      ],
      "text/plain": [
       "           CreditScore  Age  Tenure    Balance  NumOfProducts  HasCrCard  \\\n",
       "RowNumber                                                                  \n",
       "9668               596   37     2.0       0.00              1          0   \n",
       "3579               704   39     1.0  124640.51              1          1   \n",
       "218                730   33     5.0       0.00              2          0   \n",
       "6009               767   24     5.0       0.00              2          1   \n",
       "6179               850   40     4.0   97990.49              2          0   \n",
       "\n",
       "           IsActiveMember  EstimatedSalary  Geography_Germany  \\\n",
       "RowNumber                                                       \n",
       "9668                    1        121175.86                0.0   \n",
       "3579                    0        116511.12                1.0   \n",
       "218                     0        176576.62                0.0   \n",
       "6009                    1         67445.85                0.0   \n",
       "6179                    0        106691.02                1.0   \n",
       "\n",
       "           Geography_Spain  Gender_Male  \n",
       "RowNumber                                \n",
       "9668                   0.0          1.0  \n",
       "3579                   0.0          0.0  \n",
       "218                    1.0          0.0  \n",
       "6009                   1.0          0.0  \n",
       "6179                   0.0          0.0  "
      ]
     },
     "execution_count": 23,
     "metadata": {},
     "output_type": "execute_result"
    }
   ],
   "source": [
    "features_train.head()"
   ]
  },
  {
   "cell_type": "code",
   "execution_count": 24,
   "metadata": {
    "tags": []
   },
   "outputs": [],
   "source": [
    "features_val[encoder_ohe.get_feature_names_out()] = encoder_ohe.transform(features_val[categories_column])\n",
    "features_val = features_val.drop(categories_column, axis=1)\n",
    "\n",
    "features_test[encoder_ohe.get_feature_names_out()] = encoder_ohe.transform(features_test[categories_column])\n",
    "features_test = features_test.drop(categories_column, axis=1)"
   ]
  },
  {
   "cell_type": "code",
   "execution_count": 25,
   "metadata": {
    "tags": []
   },
   "outputs": [
    {
     "name": "stdout",
     "output_type": "stream",
     "text": [
      "Все колонки датасетов совпадают\n"
     ]
    }
   ],
   "source": [
    "if (features_train.columns & features_val.columns & features_test.columns).all():\n",
    "    print('Все колонки датасетов совпадают')"
   ]
  },
  {
   "cell_type": "markdown",
   "metadata": {},
   "source": [
    "<div class=\"alert alert-success\">\n",
    "<h2> Комментарий ревьюера #2 <a class=\"tocSkip\"> </h2>\n",
    "\n",
    "👍 Здесь все отлично. Этот вариант лучше, круто, что мы его реализовали!\n",
    "</div>"
   ]
  },
  {
   "cell_type": "markdown",
   "metadata": {},
   "source": [
    "### Нормализация данных с помощью StandartScaler"
   ]
  },
  {
   "cell_type": "code",
   "execution_count": 26,
   "metadata": {
    "tags": []
   },
   "outputs": [],
   "source": [
    "numeric = ['CreditScore', 'Age', 'Tenure', 'Balance', 'EstimatedSalary']"
   ]
  },
  {
   "cell_type": "code",
   "execution_count": 27,
   "metadata": {
    "tags": []
   },
   "outputs": [],
   "source": [
    "scaler = StandardScaler()\n",
    "scaler.fit(features_train[numeric])\n",
    "\n",
    "features_train[numeric] = scaler.transform(features_train[numeric])\n",
    "features_val[numeric] = scaler.transform(features_val[numeric])\n",
    "features_test[numeric] = scaler.transform(features_test[numeric])\n"
   ]
  },
  {
   "cell_type": "markdown",
   "metadata": {},
   "source": [
    "<div class=\"alert alert-success\">\n",
    "<h2> Комментарий ревьюера <a class=\"tocSkip\"> </h2>\n",
    "\n",
    "👍 Отлично. Я бы убрал предупреждения. `warnings.filterwarnings('ignore')` после `import warnings`.\n",
    "\n",
    "Или `pd.options.mode.chained_assignment = None`  - этот вариант можно прямо здесь реализовать.\n",
    "</div>\n",
    "\n"
   ]
  },
  {
   "cell_type": "markdown",
   "metadata": {},
   "source": [
    "### Помощник в тонкой настройке и валидации модели"
   ]
  },
  {
   "cell_type": "code",
   "execution_count": 28,
   "metadata": {
    "tags": []
   },
   "outputs": [],
   "source": [
    "def configurate_model(model, features, target):\n",
    "    \n",
    "    threshold_best = None\n",
    "    f1_best = 0\n",
    "    roc_auc_best = 0\n",
    "   \n",
    "    probabilities = model.predict_proba(features)\n",
    "    \n",
    "    predicts = model.predict(features)\n",
    "    f1_best = f1_score(target, predicts)\n",
    "    print('Default F1:', f1_best)\n",
    "    \n",
    "    for threshold in np.arange(0, 0.7, 0.02):\n",
    "        probabilities_one = (probabilities[:, 1] >= threshold)\n",
    "        f1_curr = f1_score(target, probabilities_one)\n",
    "        if f1_curr > f1_best:\n",
    "            threshold_best = threshold\n",
    "            roc_auc_best = roc_auc_score(target, probabilities[:, 1])\n",
    "            f1_best = f1_curr\n",
    "    \n",
    "    if threshold_best == None:\n",
    "        print('Базовая конфигурация показала лучший результат F1')\n",
    "    \n",
    "    print('Threshold:', threshold_best)\n",
    "    print('ROC-AUC:', roc_auc_best)\n",
    "    \n",
    "    print('F1:', f1_best)\n",
    "    \n",
    "    print('Confusion matrix: \\n' , confusion_matrix(target, probabilities_one))\n",
    "    \n",
    "    fpr, tpr, thresholds = roc_curve(target, probabilities[:, 1])\n",
    "\n",
    "    plt.figure()\n",
    "\n",
    "    plt.plot([0, 1], [0, 1], linestyle='--')\n",
    "    plt.plot(fpr, tpr)\n",
    "\n",
    "\n",
    "    plt.xlim(0,1)\n",
    "    plt.ylim(0,1)\n",
    "\n",
    "\n",
    "    plt.xlabel('False Positive Rate')\n",
    "    plt.ylabel('True Positive Rate')\n",
    "\n",
    "    plt.title('ROC-кривая')\n",
    "    plt.show()"
   ]
  },
  {
   "cell_type": "markdown",
   "metadata": {},
   "source": [
    "<div class=\"alert alert-block alert-danger\">\n",
    "<h2><s> Комментарий ревьюера <a class=\"tocSkip\"></h2>\n",
    "  \n",
    "<b>На доработку🤔:</b>\n",
    " \n",
    "R2 Score - это метрика задачи регрессии. Нам здесь совсем не подойдет.\n",
    "    \n",
    "***\n",
    "    \n",
    "roc_auc нужно считать по вероятностям классов. \n",
    "    \n",
    "`probabilities = model.predict_proba(features)\n",
    "probabilities_one = probabilities[:, 1]\n",
    "print('Площадь ROC-кривой:', roc_auc_score(target, probabilities_one))`\n",
    "\n",
    "\n",
    "</div>\n",
    "\n"
   ]
  },
  {
   "cell_type": "markdown",
   "metadata": {},
   "source": [
    "\n",
    "<div class=\"alert alert-info\">\n",
    "Спасибо! исправлено\n",
    "</div>"
   ]
  },
  {
   "cell_type": "markdown",
   "metadata": {},
   "source": [
    "<div class=\"alert alert-block alert-danger\" style=\"border-radius: 15px; box-shadow: 4px 4px 4px; border: 1px solid \">\n",
    "<h2><s> Комментарий ревьюера #2 <a class=\"tocSkip\"></h2>\n",
    "  \n",
    "<b>На доработку🤔:</b>\n",
    " \n",
    "Пока не все.\n",
    "    \n",
    "`probabilities_one = (probabilities[:, 1] >= threshold)` - в этой строке мы фактически переводим вероятности в класс (0,1). Поэтому ниже все графики ROC_AUC у нас получаются прямыми, а не кривыми (нам нужны кривые графики, как бы это не звучало).\n",
    "\n",
    "</div>"
   ]
  },
  {
   "cell_type": "markdown",
   "metadata": {},
   "source": [
    "<div class=\"alert alert-info\">\n",
    "Теперь точно все) недопонял мысль\n",
    "</div>"
   ]
  },
  {
   "cell_type": "markdown",
   "metadata": {},
   "source": [
    "<div class=\"alert alert-warning\">\n",
    "<h2> Комментарий ревьюера  #2 <a class=\"tocSkip\"> </h2>\n",
    "    \n",
    "<b>Некоторые замечания и рекомендации💡:</b> \n",
    "\n",
    "Здесь подбираешь порог классов. Две мысли по этому поводу:\n",
    "    \n",
    "1) В идеальном мире у нас будут идеальные модели с идеальными гиперпараметрами. Если такие получим, то баланс классов будет стремиться к 0.5 при максимизации метрики (пока метрики внутри f1 не станут единицами и подбор порога станет неактуальным).\n",
    "    \n",
    "2) Собственно, так будет происходить из-за того, что f1- гармоническое среднее precision и recall. И тут уже практический вопрос - а зачем нам в этом проекте подбирать порог классов? Формально, это неплохой способ немного повысить качество целевой метрики, но по сути это компромисс между полнотой и точностью. \n",
    "    \n",
    "Мы в идеале должны спросить заказчика, что важнее, найти максимальное количество оттока пользователей, но тогда мы будем чаще совершать ложноположительные ошибки (помечать лояльных клиентов как спорных). Допустим, удерживать клиентов мы решили с помощью бонусов, а эти бонусы ну очень дешевые. Тогда порог классов можно понизить до 0.4.\n",
    "    \n",
    "И напротив, если бонусы дорогие, а в модель мы добавим какие-то динамические фичи (изменения в поведении клиентов), то сможем некоторое время не обащать внимание на клиентов, риск ухода которых оценивается моделью в 50%, но когда он дорастет до 70%, принимать меры. В этом случае мы рискуем пропустить некоторое количество оттока, зато точность будет на высоте.\n",
    "    \n",
    "***\n",
    "   \n",
    "    \n",
    "ОДНАКО порог классов может улучшить качество модели и это вполне допустимый способ добиться хорошего качества. Так что если у нас задача в том числе добиться высокого качества, то почему бы и не подобрать порог.\n",
    "       \n",
    "</div>\n"
   ]
  },
  {
   "cell_type": "markdown",
   "metadata": {},
   "source": [
    "<div class=\"alert alert-info\">\n",
    "Интересные мысли, спасибо. здесь исходил из простого - задача стоит добиться максимальной метрики F1, вот от нее и отталкивался :)\n",
    "</div>"
   ]
  },
  {
   "cell_type": "code",
   "execution_count": 29,
   "metadata": {
    "tags": []
   },
   "outputs": [],
   "source": [
    "def validate_model(model, threshold, features, target):\n",
    "    \n",
    "   \n",
    "    probabilities = model.predict_proba(features)\n",
    "\n",
    "    probabilities_one = (probabilities[:,1] >= threshold)\n",
    "    f1_best = f1_score(target, probabilities_one)\n",
    "    threshold_best = threshold\n",
    "    roc_auc_best = roc_auc_score(target, probabilities[:, 1])\n",
    "    \n",
    "    print('Threshold:', threshold_best)\n",
    "    print('ROC-AUC:', roc_auc_best)\n",
    "    \n",
    "    print('F1:', f1_best)\n",
    "    \n",
    "    print('Confusion matrix: \\n' , confusion_matrix(target, probabilities_one))\n",
    "    \n",
    "    fpr, tpr, thresholds = roc_curve(target, probabilities[:, 1])\n",
    "\n",
    "    plt.figure()\n",
    "\n",
    "    plt.plot([0, 1], [0, 1], linestyle='--')\n",
    "    plt.plot(fpr, tpr)\n",
    "\n",
    "\n",
    "    plt.xlim(0,1)\n",
    "    plt.ylim(0,1)\n",
    "\n",
    "\n",
    "    plt.xlabel('False Positive Rate')\n",
    "    plt.ylabel('True Positive Rate')\n",
    "\n",
    "    plt.title('ROC-кривая')\n",
    "    plt.show()"
   ]
  },
  {
   "cell_type": "markdown",
   "metadata": {
    "tags": []
   },
   "source": [
    "## Выбор модели"
   ]
  },
  {
   "cell_type": "markdown",
   "metadata": {},
   "source": [
    "### LogisticRegression"
   ]
  },
  {
   "cell_type": "code",
   "execution_count": 30,
   "metadata": {
    "tags": []
   },
   "outputs": [
    {
     "data": {
      "text/html": [
       "<style>#sk-container-id-1 {color: black;background-color: white;}#sk-container-id-1 pre{padding: 0;}#sk-container-id-1 div.sk-toggleable {background-color: white;}#sk-container-id-1 label.sk-toggleable__label {cursor: pointer;display: block;width: 100%;margin-bottom: 0;padding: 0.3em;box-sizing: border-box;text-align: center;}#sk-container-id-1 label.sk-toggleable__label-arrow:before {content: \"▸\";float: left;margin-right: 0.25em;color: #696969;}#sk-container-id-1 label.sk-toggleable__label-arrow:hover:before {color: black;}#sk-container-id-1 div.sk-estimator:hover label.sk-toggleable__label-arrow:before {color: black;}#sk-container-id-1 div.sk-toggleable__content {max-height: 0;max-width: 0;overflow: hidden;text-align: left;background-color: #f0f8ff;}#sk-container-id-1 div.sk-toggleable__content pre {margin: 0.2em;color: black;border-radius: 0.25em;background-color: #f0f8ff;}#sk-container-id-1 input.sk-toggleable__control:checked~div.sk-toggleable__content {max-height: 200px;max-width: 100%;overflow: auto;}#sk-container-id-1 input.sk-toggleable__control:checked~label.sk-toggleable__label-arrow:before {content: \"▾\";}#sk-container-id-1 div.sk-estimator input.sk-toggleable__control:checked~label.sk-toggleable__label {background-color: #d4ebff;}#sk-container-id-1 div.sk-label input.sk-toggleable__control:checked~label.sk-toggleable__label {background-color: #d4ebff;}#sk-container-id-1 input.sk-hidden--visually {border: 0;clip: rect(1px 1px 1px 1px);clip: rect(1px, 1px, 1px, 1px);height: 1px;margin: -1px;overflow: hidden;padding: 0;position: absolute;width: 1px;}#sk-container-id-1 div.sk-estimator {font-family: monospace;background-color: #f0f8ff;border: 1px dotted black;border-radius: 0.25em;box-sizing: border-box;margin-bottom: 0.5em;}#sk-container-id-1 div.sk-estimator:hover {background-color: #d4ebff;}#sk-container-id-1 div.sk-parallel-item::after {content: \"\";width: 100%;border-bottom: 1px solid gray;flex-grow: 1;}#sk-container-id-1 div.sk-label:hover label.sk-toggleable__label {background-color: #d4ebff;}#sk-container-id-1 div.sk-serial::before {content: \"\";position: absolute;border-left: 1px solid gray;box-sizing: border-box;top: 0;bottom: 0;left: 50%;z-index: 0;}#sk-container-id-1 div.sk-serial {display: flex;flex-direction: column;align-items: center;background-color: white;padding-right: 0.2em;padding-left: 0.2em;position: relative;}#sk-container-id-1 div.sk-item {position: relative;z-index: 1;}#sk-container-id-1 div.sk-parallel {display: flex;align-items: stretch;justify-content: center;background-color: white;position: relative;}#sk-container-id-1 div.sk-item::before, #sk-container-id-1 div.sk-parallel-item::before {content: \"\";position: absolute;border-left: 1px solid gray;box-sizing: border-box;top: 0;bottom: 0;left: 50%;z-index: -1;}#sk-container-id-1 div.sk-parallel-item {display: flex;flex-direction: column;z-index: 1;position: relative;background-color: white;}#sk-container-id-1 div.sk-parallel-item:first-child::after {align-self: flex-end;width: 50%;}#sk-container-id-1 div.sk-parallel-item:last-child::after {align-self: flex-start;width: 50%;}#sk-container-id-1 div.sk-parallel-item:only-child::after {width: 0;}#sk-container-id-1 div.sk-dashed-wrapped {border: 1px dashed gray;margin: 0 0.4em 0.5em 0.4em;box-sizing: border-box;padding-bottom: 0.4em;background-color: white;}#sk-container-id-1 div.sk-label label {font-family: monospace;font-weight: bold;display: inline-block;line-height: 1.2em;}#sk-container-id-1 div.sk-label-container {text-align: center;}#sk-container-id-1 div.sk-container {/* jupyter's `normalize.less` sets `[hidden] { display: none; }` but bootstrap.min.css set `[hidden] { display: none !important; }` so we also need the `!important` here to be able to override the default hidden behavior on the sphinx rendered scikit-learn.org. See: https://github.com/scikit-learn/scikit-learn/issues/21755 */display: inline-block !important;position: relative;}#sk-container-id-1 div.sk-text-repr-fallback {display: none;}</style><div id=\"sk-container-id-1\" class=\"sk-top-container\"><div class=\"sk-text-repr-fallback\"><pre>LogisticRegression(random_state=1, solver=&#x27;liblinear&#x27;)</pre><b>In a Jupyter environment, please rerun this cell to show the HTML representation or trust the notebook. <br />On GitHub, the HTML representation is unable to render, please try loading this page with nbviewer.org.</b></div><div class=\"sk-container\" hidden><div class=\"sk-item\"><div class=\"sk-estimator sk-toggleable\"><input class=\"sk-toggleable__control sk-hidden--visually\" id=\"sk-estimator-id-1\" type=\"checkbox\" checked><label for=\"sk-estimator-id-1\" class=\"sk-toggleable__label sk-toggleable__label-arrow\">LogisticRegression</label><div class=\"sk-toggleable__content\"><pre>LogisticRegression(random_state=1, solver=&#x27;liblinear&#x27;)</pre></div></div></div></div></div>"
      ],
      "text/plain": [
       "LogisticRegression(random_state=1, solver='liblinear')"
      ]
     },
     "execution_count": 30,
     "metadata": {},
     "output_type": "execute_result"
    }
   ],
   "source": [
    "lr_model = LogisticRegression(random_state=1, solver='liblinear')\n",
    "lr_model.fit(features_train, target_train)\n"
   ]
  },
  {
   "cell_type": "code",
   "execution_count": 31,
   "metadata": {
    "tags": []
   },
   "outputs": [
    {
     "name": "stdout",
     "output_type": "stream",
     "text": [
      "Default F1: 0.3312464428002277\n",
      "Threshold: 0.24\n",
      "ROC-AUC: 0.7734660167182794\n",
      "F1: 0.5172847265870522\n",
      "Confusion matrix: \n",
      " [[4682   46]\n",
      " [1179   93]]\n"
     ]
    },
    {
     "data": {
      "image/png": "[encoded data removed]",
      "text/plain": [
       "<Figure size 640x480 with 1 Axes>"
      ]
     },
     "metadata": {},
     "output_type": "display_data"
    }
   ],
   "source": [
    "configurate_model(lr_model, features_train, target_train)"
   ]
  },
  {
   "cell_type": "code",
   "execution_count": 32,
   "metadata": {
    "tags": []
   },
   "outputs": [
    {
     "name": "stdout",
     "output_type": "stream",
     "text": [
      "Default F1: 0.2736030828516378\n",
      "Threshold: 0.18\n",
      "ROC-AUC: 0.7593034840330627\n",
      "F1: 0.46788263283108644\n",
      "Confusion matrix: \n",
      " [[1608    9]\n",
      " [ 366   17]]\n"
     ]
    },
    {
     "data": {
      "image/png": "[encoded data removed]",
      "text/plain": [
       "<Figure size 640x480 with 1 Axes>"
      ]
     },
     "metadata": {},
     "output_type": "display_data"
    }
   ],
   "source": [
    "configurate_model(lr_model, features_val, target_val)"
   ]
  },
  {
   "cell_type": "markdown",
   "metadata": {},
   "source": [
    "Краткий вывод: \\\n",
    "Модель логистической регрессии плохо справляется с задачей, все время отвечая, что клиент продолжит сотрудничество. Такое аналогично случайной модели. \\\n",
    "\n",
    "|Параметр|Занчение|\n",
    "|--------|--------|\n",
    "|ROC-AUC|0.76|\n",
    "|F1|0.47|\n",
    "\n"
   ]
  },
  {
   "cell_type": "markdown",
   "metadata": {},
   "source": [
    "### RandomForestClassifier"
   ]
  },
  {
   "cell_type": "code",
   "execution_count": 33,
   "metadata": {
    "tags": []
   },
   "outputs": [
    {
     "name": "stdout",
     "output_type": "stream",
     "text": [
      "Best score: 0.866\n",
      "Best estimators: 31\n",
      "Best depth: 31\n"
     ]
    }
   ],
   "source": [
    "ffr_best_model = None\n",
    "ffr_best_est = 0\n",
    "ffr_best_depth = 0\n",
    "ffr_best_score = 0\n",
    "\n",
    "for est in range(1,100,5):\n",
    "    for depth in range(1,60,5):\n",
    "        model = RandomForestClassifier(n_estimators=est, max_depth=depth, random_state=1)\n",
    "        model.fit(features_train, target_train)\n",
    "        score = model.score(features_val, target_val)\n",
    "        if score > ffr_best_score:\n",
    "            ffr_best_model = model\n",
    "            ffr_best_est = est\n",
    "            ffr_best_depth = depth\n",
    "            ffr_best_score = score\n",
    "\n",
    "print('Best score:', ffr_best_score)\n",
    "print('Best estimators:', ffr_best_est)\n",
    "print('Best depth:', ffr_best_depth)"
   ]
  },
  {
   "cell_type": "code",
   "execution_count": 34,
   "metadata": {
    "tags": []
   },
   "outputs": [
    {
     "name": "stdout",
     "output_type": "stream",
     "text": [
      "Default F1: 0.9968454258675079\n",
      "Threshold: 0.42\n",
      "ROC-AUC: 0.9999999168608797\n",
      "F1: 0.999607072691552\n",
      "Confusion matrix: \n",
      " [[4728    0]\n",
      " [ 230 1042]]\n"
     ]
    },
    {
     "data": {
      "image/png": "[encoded data removed]",
      "text/plain": [
       "<Figure size 640x480 with 1 Axes>"
      ]
     },
     "metadata": {},
     "output_type": "display_data"
    }
   ],
   "source": [
    "configurate_model(ffr_best_model, features_train, target_train)"
   ]
  },
  {
   "cell_type": "markdown",
   "metadata": {},
   "source": [
    "Тонкая настройка модели на обучающих данных не эффективна, поскольку тестовые результаты и так = 1 \\\n",
    "Проведем донастройку на валидационной выборке"
   ]
  },
  {
   "cell_type": "code",
   "execution_count": 35,
   "metadata": {
    "tags": []
   },
   "outputs": [
    {
     "name": "stdout",
     "output_type": "stream",
     "text": [
      "Default F1: 0.5772870662460569\n",
      "Threshold: 0.34\n",
      "ROC-AUC: 0.826484593362624\n",
      "F1: 0.5997490589711417\n",
      "Confusion matrix: \n",
      " [[1602   15]\n",
      " [ 268  115]]\n"
     ]
    },
    {
     "data": {
      "image/png": "[encoded data removed]",
      "text/plain": [
       "<Figure size 640x480 with 1 Axes>"
      ]
     },
     "metadata": {},
     "output_type": "display_data"
    }
   ],
   "source": [
    "configurate_model(ffr_best_model, features_val, target_val)"
   ]
  },
  {
   "cell_type": "markdown",
   "metadata": {},
   "source": [
    "Конфигурация на валидационной выборке показывает целевые результаты:\n",
    "|Параметр|Значение|\n",
    "|--------|--------|\n",
    "|ROC-AUC|0.83|\n",
    "|F1|0.5997|\n"
   ]
  },
  {
   "cell_type": "markdown",
   "metadata": {},
   "source": [
    "<div class=\"alert alert-success\">\n",
    "<h2> Комментарий ревьюера <a class=\"tocSkip\"> </h2>\n",
    " \n",
    "👍 По гиперпараметрам все верно, а качество действительно лучше смотреть на валидационной выборке, на тренировочной - неэффективно и неинформативно.\n",
    "</div>  "
   ]
  },
  {
   "cell_type": "code",
   "execution_count": 36,
   "metadata": {
    "tags": []
   },
   "outputs": [
    {
     "name": "stdout",
     "output_type": "stream",
     "text": [
      "Threshold: 0.34\n",
      "ROC-AUC: 0.826484593362624\n",
      "F1: 0.5997490589711417\n",
      "Confusion matrix: \n",
      " [[1442  175]\n",
      " [ 144  239]]\n"
     ]
    },
    {
     "data": {
      "image/png": "[encoded data removed]",
      "text/plain": [
       "<Figure size 640x480 with 1 Axes>"
      ]
     },
     "metadata": {},
     "output_type": "display_data"
    }
   ],
   "source": [
    "validate_model(ffr_best_model, 0.34, features_val, target_val)"
   ]
  },
  {
   "cell_type": "markdown",
   "metadata": {},
   "source": [
    "Краткий вывод: \\\n",
    "Слуйчайный лес показывает достаточно высокие показатели, а метрика F1 соответствует целевой\n",
    "|Параметр|Занчение|\n",
    "|--------|--------|\n",
    "|ROC-AUC|0.83|\n",
    "|F1|0.6|\n",
    "\n",
    "\n",
    "В дальнейшей работе будем использовать модель случайного леса с уже подобранными параметрами"
   ]
  },
  {
   "cell_type": "markdown",
   "metadata": {},
   "source": [
    "# Борьба с дисбалансом"
   ]
  },
  {
   "cell_type": "markdown",
   "metadata": {},
   "source": [
    "## Использование метода upsampling"
   ]
  },
  {
   "cell_type": "code",
   "execution_count": 37,
   "metadata": {
    "tags": []
   },
   "outputs": [
    {
     "data": {
      "text/plain": [
       "0    4728\n",
       "1    1272\n",
       "Name: Exited, dtype: int64"
      ]
     },
     "execution_count": 37,
     "metadata": {},
     "output_type": "execute_result"
    }
   ],
   "source": [
    "target_train.value_counts()"
   ]
  },
  {
   "cell_type": "code",
   "execution_count": 38,
   "metadata": {
    "tags": []
   },
   "outputs": [
    {
     "data": {
      "text/plain": [
       "6000"
      ]
     },
     "execution_count": 38,
     "metadata": {},
     "output_type": "execute_result"
    }
   ],
   "source": [
    "target_train.count()"
   ]
  },
  {
   "cell_type": "markdown",
   "metadata": {},
   "source": [
    "Общее количество строк в обучающей выборке составляет 6 000, что не является большим количеством для обучения модели. \\\n",
    "Соответственно дальнейшее сокращение в целях борьбы с дисбалансом может привести к ухудшению качества модели. \\\n",
    "В связи с этим принято решение использовать метод upsampling. \\\n",
    "Также в целях эксперимента дополнительно будет проведена итерация с использованием методологии downsampling"
   ]
  },
  {
   "cell_type": "code",
   "execution_count": 39,
   "metadata": {
    "tags": []
   },
   "outputs": [],
   "source": [
    "def upsample(features, target, repeat):\n",
    "    features_zeros = features[target == 0]\n",
    "    features_ones = features[target == 1]\n",
    "    target_zeros = target[target == 0]\n",
    "    target_ones = target[target == 1]\n",
    "\n",
    "    features_upsampled = pd.concat([features_zeros] + [features_ones] * repeat)\n",
    "    target_upsampled = pd.concat([target_zeros] + [target_ones] * repeat)\n",
    "    \n",
    "    features_upsampled, target_upsampled = shuffle(\n",
    "        features_upsampled, target_upsampled, random_state=2)\n",
    "    \n",
    "    return features_upsampled, target_upsampled"
   ]
  },
  {
   "cell_type": "markdown",
   "metadata": {},
   "source": [
    "<div class=\"alert alert-success\">\n",
    "<h2> Комментарий ревьюера <a class=\"tocSkip\"> </h2>\n",
    "\n",
    "👍 Отлично, что используешь рукописную функцию, но здесь можно все оптимизировать, используя <a href=\"https://imbalanced-learn.org/stable/references/generated/imblearn.over_sampling.SMOTE.html\">SMOTE</a> для увеличения выборки и <a href=\"https://imbalanced-learn.org/stable/references/generated/imblearn.under_sampling.RandomUnderSampler.html\">RandomUnderSampler</a>  для уменьшения. \n",
    "    \n",
    "Апсемплинг делается очень просто:\n",
    "    \n",
    "`oversample = SMOTE(random_state=RANDOM_STATE)`\n",
    "\n",
    "`features_train_up, target_train_up = oversample.fit_resample(features_train_enc, target_train)`\n",
    "    \n",
    "*предварительно импотрировав `from imblearn.over_sampling import SMOTE`\n",
    "\n",
    "**Чтобы импортировать imblearn его сначала требуется проинсталлировать. через `!pip install imblearn`\n",
    "\n",
    "В некоторых случаях качество может при применении SMOTE как улучшаться, так и ухудшаться в пределах статистической погрешности. Алгоритм не дублирует строки, а создает новые с помощью метода ближайших соседей. Можно попробовать посмотреть варианты с гиперпараметром `k_neighbors`. \n",
    "\n",
    "`oversample = SMOTE(random_state=RANDOM_STATE, k_neighbors=4)`\n",
    "\n",
    "***\n",
    "    \n",
    "Если код выдаст ошибку, нужно перезагрузить ядро юпитера: Kernel - Restart на панели задач.\n",
    " \n",
    "    \n",
    "</div>\n"
   ]
  },
  {
   "cell_type": "markdown",
   "metadata": {},
   "source": [
    "<div class=\"alert alert-info\">\n",
    "Спасибо, попробуем!\n",
    "</div>"
   ]
  },
  {
   "cell_type": "code",
   "execution_count": 40,
   "metadata": {
    "tags": []
   },
   "outputs": [],
   "source": [
    "oversample = SMOTE(random_state=2)\n",
    "features_train_up, target_train_up = oversample.fit_resample(features_train, target_train)"
   ]
  },
  {
   "cell_type": "code",
   "execution_count": 41,
   "metadata": {
    "tags": []
   },
   "outputs": [
    {
     "data": {
      "text/plain": [
       "0    4728\n",
       "1    4728\n",
       "Name: Exited, dtype: int64"
      ]
     },
     "execution_count": 41,
     "metadata": {},
     "output_type": "execute_result"
    }
   ],
   "source": [
    "target_train_up.value_counts()"
   ]
  },
  {
   "cell_type": "markdown",
   "metadata": {},
   "source": [
    "<div class=\"alert alert-block alert-danger\">\n",
    "<h2><s> Комментарий ревьюера <a class=\"tocSkip\"></h2>\n",
    "  \n",
    "<b>На доработку🤔:</b>\n",
    " \n",
    "У нас дисбаланс классов 1:4. Аналитически правильным решением будет привести баланс к 1:1, так что здесь нужно взять коэффициент в 4.\n",
    "\n",
    "</div>\n"
   ]
  },
  {
   "cell_type": "markdown",
   "metadata": {},
   "source": [
    "<div class=\"alert alert-info\">\n",
    "Спасибо, исправлено!\n",
    "</div>"
   ]
  },
  {
   "cell_type": "markdown",
   "metadata": {},
   "source": [
    "Методом upsampling было произведено выравнивание выборки.\n",
    "В следующем шаге проведем обучение на новой выборке и подсчет целевых показателей"
   ]
  },
  {
   "cell_type": "code",
   "execution_count": 42,
   "metadata": {
    "tags": []
   },
   "outputs": [
    {
     "data": {
      "text/plain": [
       "0.8575"
      ]
     },
     "execution_count": 42,
     "metadata": {},
     "output_type": "execute_result"
    }
   ],
   "source": [
    "ffr_best_model.fit(features_train_up, target_train_up)\n",
    "model.score(features_val, target_val)"
   ]
  },
  {
   "cell_type": "code",
   "execution_count": 43,
   "metadata": {
    "tags": []
   },
   "outputs": [
    {
     "name": "stdout",
     "output_type": "stream",
     "text": [
      "Default F1: 0.9991536182818451\n",
      "Threshold: 0.42\n",
      "ROC-AUC: 0.9999982553445507\n",
      "F1: 0.9994715146390445\n",
      "Confusion matrix: \n",
      " [[4728    0]\n",
      " [ 128 4600]]\n"
     ]
    },
    {
     "data": {
      "image/png": "[encoded data removed]",
      "text/plain": [
       "<Figure size 640x480 with 1 Axes>"
      ]
     },
     "metadata": {},
     "output_type": "display_data"
    }
   ],
   "source": [
    "configurate_model(ffr_best_model, features_train_up, target_train_up)"
   ]
  },
  {
   "cell_type": "code",
   "execution_count": 44,
   "metadata": {
    "tags": []
   },
   "outputs": [
    {
     "name": "stdout",
     "output_type": "stream",
     "text": [
      "Default F1: 0.5836680053547523\n",
      "Threshold: 0.46\n",
      "ROC-AUC: 0.8328279329771311\n",
      "F1: 0.5862944162436549\n",
      "Confusion matrix: \n",
      " [[1565   52]\n",
      " [ 245  138]]\n"
     ]
    },
    {
     "data": {
      "image/png": "[encoded data removed]",
      "text/plain": [
       "<Figure size 640x480 with 1 Axes>"
      ]
     },
     "metadata": {},
     "output_type": "display_data"
    }
   ],
   "source": [
    "configurate_model(ffr_best_model, features_val, target_val)"
   ]
  },
  {
   "cell_type": "code",
   "execution_count": 45,
   "metadata": {
    "tags": []
   },
   "outputs": [
    {
     "name": "stdout",
     "output_type": "stream",
     "text": [
      "Threshold: 0.46\n",
      "ROC-AUC: 0.8328279329771311\n",
      "F1: 0.5862944162436549\n",
      "Confusion matrix: \n",
      " [[1443  174]\n",
      " [ 152  231]]\n"
     ]
    },
    {
     "data": {
      "image/png": "[encoded data removed]",
      "text/plain": [
       "<Figure size 640x480 with 1 Axes>"
      ]
     },
     "metadata": {},
     "output_type": "display_data"
    }
   ],
   "source": [
    "validate_model(ffr_best_model, 0.46, features_val, target_val)"
   ]
  },
  {
   "cell_type": "markdown",
   "metadata": {},
   "source": [
    "### Краткий вывод\n",
    "\n",
    "По итогам исправления дисбаланса и переконфигурации модели целевые метрики показывают уровни близкие к целевым:\n",
    "\n",
    "|Параметр|Занчение|\n",
    "|--------|--------|\n",
    "|ROC-AUC|0.75|\n",
    "|F1|0.586|\n",
    "\n"
   ]
  },
  {
   "cell_type": "markdown",
   "metadata": {},
   "source": [
    "## Использование метода Downsampling"
   ]
  },
  {
   "cell_type": "markdown",
   "metadata": {},
   "source": [
    "Альтернативный вариант решения поставленной задачи с использованием метода downsampling  \n",
    "Определим какую часть от всех True необходимо взять, чтобы выровнять выборки"
   ]
  },
  {
   "cell_type": "code",
   "execution_count": 46,
   "metadata": {
    "tags": []
   },
   "outputs": [
    {
     "data": {
      "text/plain": [
       "0    4728\n",
       "1    1272\n",
       "Name: Exited, dtype: int64"
      ]
     },
     "execution_count": 46,
     "metadata": {},
     "output_type": "execute_result"
    }
   ],
   "source": [
    "target_train.value_counts()"
   ]
  },
  {
   "cell_type": "markdown",
   "metadata": {},
   "source": [
    "<div class=\"alert alert-success\">\n",
    "<h2> Комментарий ревьюера <a class=\"tocSkip\"> </h2>\n",
    " \n",
    "👍 Здесь все отлично по коэффициенту. И ты в обоих случаях выводишь баланс классов, видно, что после даунсемплинга у нас все ровно.\n",
    "</div>  "
   ]
  },
  {
   "cell_type": "code",
   "execution_count": 47,
   "metadata": {
    "tags": []
   },
   "outputs": [],
   "source": [
    "downsample = RandomUnderSampler(random_state=2)\n",
    "features_train_dw, target_train_dw = downsample.fit_resample(features_train, target_train)"
   ]
  },
  {
   "cell_type": "code",
   "execution_count": 48,
   "metadata": {
    "tags": []
   },
   "outputs": [
    {
     "data": {
      "text/plain": [
       "0    1272\n",
       "1    1272\n",
       "Name: Exited, dtype: int64"
      ]
     },
     "execution_count": 48,
     "metadata": {},
     "output_type": "execute_result"
    }
   ],
   "source": [
    "target_train_dw.value_counts()"
   ]
  },
  {
   "cell_type": "markdown",
   "metadata": {},
   "source": [
    "Выборки были приведены к единому количеству"
   ]
  },
  {
   "cell_type": "code",
   "execution_count": 49,
   "metadata": {
    "tags": []
   },
   "outputs": [
    {
     "data": {
      "text/plain": [
       "0.8575"
      ]
     },
     "execution_count": 49,
     "metadata": {},
     "output_type": "execute_result"
    }
   ],
   "source": [
    "ffr_best_model.fit(features_train_dw, target_train_dw)\n",
    "model.score(features_val, target_val)"
   ]
  },
  {
   "cell_type": "code",
   "execution_count": 50,
   "metadata": {
    "tags": []
   },
   "outputs": [
    {
     "name": "stdout",
     "output_type": "stream",
     "text": [
      "Default F1: 0.9992132179386309\n",
      "Threshold: 0.46\n",
      "ROC-AUC: 0.9999987638938332\n",
      "F1: 0.9996067636649627\n",
      "Confusion matrix: \n",
      " [[1272    0]\n",
      " [  88 1184]]\n"
     ]
    },
    {
     "data": {
      "image/png": "[encoded data removed]",
      "text/plain": [
       "<Figure size 640x480 with 1 Axes>"
      ]
     },
     "metadata": {},
     "output_type": "display_data"
    }
   ],
   "source": [
    "configurate_model(ffr_best_model, features_train_dw, target_train_dw)"
   ]
  },
  {
   "cell_type": "code",
   "execution_count": 51,
   "metadata": {
    "tags": []
   },
   "outputs": [
    {
     "name": "stdout",
     "output_type": "stream",
     "text": [
      "Default F1: 0.5775510204081633\n",
      "Threshold: 0.56\n",
      "ROC-AUC: 0.8354025683380402\n",
      "F1: 0.5947187141216992\n",
      "Confusion matrix: \n",
      " [[1506  111]\n",
      " [ 184  199]]\n"
     ]
    },
    {
     "data": {
      "image/png": "[encoded data removed]",
      "text/plain": [
       "<Figure size 640x480 with 1 Axes>"
      ]
     },
     "metadata": {},
     "output_type": "display_data"
    }
   ],
   "source": [
    "configurate_model(ffr_best_model, features_val, target_val)"
   ]
  },
  {
   "cell_type": "code",
   "execution_count": 52,
   "metadata": {
    "tags": []
   },
   "outputs": [
    {
     "name": "stdout",
     "output_type": "stream",
     "text": [
      "Threshold: 0.56\n",
      "ROC-AUC: 0.8354025683380402\n",
      "F1: 0.5947187141216992\n",
      "Confusion matrix: \n",
      " [[1388  229]\n",
      " [ 124  259]]\n"
     ]
    },
    {
     "data": {
      "image/png": "[encoded data removed]",
      "text/plain": [
       "<Figure size 640x480 with 1 Axes>"
      ]
     },
     "metadata": {},
     "output_type": "display_data"
    }
   ],
   "source": [
    "validate_model(ffr_best_model, 0.56, features_val, target_val)"
   ]
  },
  {
   "cell_type": "markdown",
   "metadata": {},
   "source": [
    "Краткий вывод: \\\n",
    "Использование метода downsampling показало более лучшие результаты для метрики F1, при этом тестирование будем провоить на модели, обученной на выборке, сформированной по методу upsampling\n",
    "\n",
    "\n",
    "|Параметр|Занчение|\n",
    "|--------|--------|\n",
    "|ROC-AUC|0.83|\n",
    "|F1|0.594|\n"
   ]
  },
  {
   "cell_type": "markdown",
   "metadata": {},
   "source": [
    "<div class=\"alert alert-warning\">\n",
    "<h2> Комментарий ревьюера <a class=\"tocSkip\"> </h2>\n",
    "    \n",
    "<b>Некоторые замечания и рекомендации💡:</b> \n",
    " \n",
    "Здесь важно указать гиперпараметры и метод борьбы с дисбалансом, которые мы используем для выбранной модели в тестировании.\n",
    "\n",
    "</div>\n"
   ]
  },
  {
   "cell_type": "markdown",
   "metadata": {},
   "source": [
    "## Выбранная модель для тестирования:\n",
    "1. Модель: RandomForestClassifier\n",
    "2. Гиперпараметры:\n",
    "    - Estimators: 31\n",
    "    - Depth: 31\n",
    "3. Метод борьбы с дисбалансом: upsampling"
   ]
  },
  {
   "cell_type": "markdown",
   "metadata": {
    "tags": []
   },
   "source": [
    "# Тестирование модели"
   ]
  },
  {
   "cell_type": "markdown",
   "metadata": {},
   "source": [
    "## Проверка модели на тестовой выборке"
   ]
  },
  {
   "cell_type": "code",
   "execution_count": 53,
   "metadata": {
    "tags": []
   },
   "outputs": [
    {
     "data": {
      "text/html": [
       "<style>#sk-container-id-2 {color: black;background-color: white;}#sk-container-id-2 pre{padding: 0;}#sk-container-id-2 div.sk-toggleable {background-color: white;}#sk-container-id-2 label.sk-toggleable__label {cursor: pointer;display: block;width: 100%;margin-bottom: 0;padding: 0.3em;box-sizing: border-box;text-align: center;}#sk-container-id-2 label.sk-toggleable__label-arrow:before {content: \"▸\";float: left;margin-right: 0.25em;color: #696969;}#sk-container-id-2 label.sk-toggleable__label-arrow:hover:before {color: black;}#sk-container-id-2 div.sk-estimator:hover label.sk-toggleable__label-arrow:before {color: black;}#sk-container-id-2 div.sk-toggleable__content {max-height: 0;max-width: 0;overflow: hidden;text-align: left;background-color: #f0f8ff;}#sk-container-id-2 div.sk-toggleable__content pre {margin: 0.2em;color: black;border-radius: 0.25em;background-color: #f0f8ff;}#sk-container-id-2 input.sk-toggleable__control:checked~div.sk-toggleable__content {max-height: 200px;max-width: 100%;overflow: auto;}#sk-container-id-2 input.sk-toggleable__control:checked~label.sk-toggleable__label-arrow:before {content: \"▾\";}#sk-container-id-2 div.sk-estimator input.sk-toggleable__control:checked~label.sk-toggleable__label {background-color: #d4ebff;}#sk-container-id-2 div.sk-label input.sk-toggleable__control:checked~label.sk-toggleable__label {background-color: #d4ebff;}#sk-container-id-2 input.sk-hidden--visually {border: 0;clip: rect(1px 1px 1px 1px);clip: rect(1px, 1px, 1px, 1px);height: 1px;margin: -1px;overflow: hidden;padding: 0;position: absolute;width: 1px;}#sk-container-id-2 div.sk-estimator {font-family: monospace;background-color: #f0f8ff;border: 1px dotted black;border-radius: 0.25em;box-sizing: border-box;margin-bottom: 0.5em;}#sk-container-id-2 div.sk-estimator:hover {background-color: #d4ebff;}#sk-container-id-2 div.sk-parallel-item::after {content: \"\";width: 100%;border-bottom: 1px solid gray;flex-grow: 1;}#sk-container-id-2 div.sk-label:hover label.sk-toggleable__label {background-color: #d4ebff;}#sk-container-id-2 div.sk-serial::before {content: \"\";position: absolute;border-left: 1px solid gray;box-sizing: border-box;top: 0;bottom: 0;left: 50%;z-index: 0;}#sk-container-id-2 div.sk-serial {display: flex;flex-direction: column;align-items: center;background-color: white;padding-right: 0.2em;padding-left: 0.2em;position: relative;}#sk-container-id-2 div.sk-item {position: relative;z-index: 1;}#sk-container-id-2 div.sk-parallel {display: flex;align-items: stretch;justify-content: center;background-color: white;position: relative;}#sk-container-id-2 div.sk-item::before, #sk-container-id-2 div.sk-parallel-item::before {content: \"\";position: absolute;border-left: 1px solid gray;box-sizing: border-box;top: 0;bottom: 0;left: 50%;z-index: -1;}#sk-container-id-2 div.sk-parallel-item {display: flex;flex-direction: column;z-index: 1;position: relative;background-color: white;}#sk-container-id-2 div.sk-parallel-item:first-child::after {align-self: flex-end;width: 50%;}#sk-container-id-2 div.sk-parallel-item:last-child::after {align-self: flex-start;width: 50%;}#sk-container-id-2 div.sk-parallel-item:only-child::after {width: 0;}#sk-container-id-2 div.sk-dashed-wrapped {border: 1px dashed gray;margin: 0 0.4em 0.5em 0.4em;box-sizing: border-box;padding-bottom: 0.4em;background-color: white;}#sk-container-id-2 div.sk-label label {font-family: monospace;font-weight: bold;display: inline-block;line-height: 1.2em;}#sk-container-id-2 div.sk-label-container {text-align: center;}#sk-container-id-2 div.sk-container {/* jupyter's `normalize.less` sets `[hidden] { display: none; }` but bootstrap.min.css set `[hidden] { display: none !important; }` so we also need the `!important` here to be able to override the default hidden behavior on the sphinx rendered scikit-learn.org. See: https://github.com/scikit-learn/scikit-learn/issues/21755 */display: inline-block !important;position: relative;}#sk-container-id-2 div.sk-text-repr-fallback {display: none;}</style><div id=\"sk-container-id-2\" class=\"sk-top-container\"><div class=\"sk-text-repr-fallback\"><pre>RandomForestClassifier(max_depth=31, n_estimators=31, random_state=1)</pre><b>In a Jupyter environment, please rerun this cell to show the HTML representation or trust the notebook. <br />On GitHub, the HTML representation is unable to render, please try loading this page with nbviewer.org.</b></div><div class=\"sk-container\" hidden><div class=\"sk-item\"><div class=\"sk-estimator sk-toggleable\"><input class=\"sk-toggleable__control sk-hidden--visually\" id=\"sk-estimator-id-2\" type=\"checkbox\" checked><label for=\"sk-estimator-id-2\" class=\"sk-toggleable__label sk-toggleable__label-arrow\">RandomForestClassifier</label><div class=\"sk-toggleable__content\"><pre>RandomForestClassifier(max_depth=31, n_estimators=31, random_state=1)</pre></div></div></div></div></div>"
      ],
      "text/plain": [
       "RandomForestClassifier(max_depth=31, n_estimators=31, random_state=1)"
      ]
     },
     "execution_count": 53,
     "metadata": {},
     "output_type": "execute_result"
    }
   ],
   "source": [
    "ffr_best_model.fit(features_train_up, target_train_up)"
   ]
  },
  {
   "cell_type": "code",
   "execution_count": 54,
   "metadata": {
    "tags": []
   },
   "outputs": [
    {
     "name": "stdout",
     "output_type": "stream",
     "text": [
      "Threshold: 0.46\n",
      "ROC-AUC: 0.8474928649551188\n",
      "F1: 0.6059850374064838\n",
      "Confusion matrix: \n",
      " [[1441  177]\n",
      " [ 139  243]]\n"
     ]
    },
    {
     "data": {
      "image/png": "[encoded data removed]",
      "text/plain": [
       "<Figure size 640x480 with 1 Axes>"
      ]
     },
     "metadata": {},
     "output_type": "display_data"
    }
   ],
   "source": [
    "validate_model(ffr_best_model, 0.46, features_test, target_test)"
   ]
  },
  {
   "cell_type": "markdown",
   "metadata": {},
   "source": [
    "<div class=\"alert alert-success\">\n",
    "<h2> Комментарий ревьюера <a class=\"tocSkip\"> </h2>\n",
    "\n",
    "👍 Здесь все корректно по результату. Выше по функции нужно будет поправить с метриками и их вычислением.\n",
    "</div> \n"
   ]
  },
  {
   "cell_type": "markdown",
   "metadata": {},
   "source": [
    "## Проверка на адекватность"
   ]
  },
  {
   "cell_type": "code",
   "execution_count": 55,
   "metadata": {
    "tags": []
   },
   "outputs": [
    {
     "name": "stdout",
     "output_type": "stream",
     "text": [
      "Dummy F1 score: 0.32073887489504616\n"
     ]
    }
   ],
   "source": [
    "dummy_model = DummyClassifier(strategy='constant', constant=1) \n",
    "dummy_model.fit(features_train_up, target_train_up) \n",
    "print('Dummy F1 score:', f1_score(dummy_model.predict(features_test), target_test))"
   ]
  },
  {
   "cell_type": "markdown",
   "metadata": {},
   "source": [
    "Заключение: \\\n",
    "В целях решения поставленной задачи по прогнозированию ухода клиента из банка было произведено:\n",
    "1. Исследование предоставленных данных\n",
    "2. Обработка датасета для дальнейшего обучения модели\n",
    "3. Выравнивание дисбаланса методами upsampling и downsampling\n",
    "4. Обучены 2 модели и выбрана наиболее успешная - RandomForestClassifier\n",
    "5. Проведена проверка модели на адекватность с использованием DummyClassifier 0.605 против 0.32 у Dummy\n",
    "\n",
    "\n",
    "По итогам работы удалось достигнуть целевого значения метрики F1 >= 0.59, а модель дает верные предсказания в 85% случаев."
   ]
  },
  {
   "cell_type": "markdown",
   "metadata": {},
   "source": [
    "<div class=\"alert alert-warning\">\n",
    "<h2> Комментарий ревьюера <a class=\"tocSkip\"> </h2>\n",
    "    \n",
    "<b>Некоторые замечания и рекомендации💡:</b> \n",
    "\n",
    "\n",
    "Я бы добавил сравнение по f1-мере с константной моделью, также можно посмотреть recall и прокомментировать, какую долю клиентов на отток модель верно детектирует.\n",
    "***\n",
    "\n",
    "Здесь в дамми-модели я бы предсказал везде «1». Условно говоря, если предсказываем ноль, моделируем ситуацию, когда акцию с бонусами для удержания клиентов решили не проводить. Если предсказываем единицу − решили раздать бонусы вообще всем клиентам. Если в дамми-модели предсказываем по единице, можно подсчитать F1, она не будет зануляться.\n",
    "    \n",
    "`dummy_model = DummyClassifier(strategy='constant', constant=1)\n",
    "dummy_model.fit(features_train, target_train)\n",
    "f1_score(dummy_model.predict(features_test), target_test)`\n",
    "    \n",
    "Импорт: from sklearn.dummy import DummyClassifier\n",
    "\n",
    "       \n",
    "</div>"
   ]
  },
  {
   "cell_type": "markdown",
   "metadata": {},
   "source": [
    "<div class=\"alert alert-info\">\n",
    "Спасибо за классные, полезные комментарии <br>\n",
    "Надеюсь после доработки мой проект готов к сдаче заказчику <br>\n",
    "Спасибо!\n",
    "</div>"
   ]
  },
  {
   "cell_type": "markdown",
   "metadata": {},
   "source": [
    "<div class=\"alert alert-success\">\n",
    "<h2> Комментарий ревьюера #2 <a class=\"tocSkip\"> </h2>\n",
    "\n",
    "👍 Почти все круто, спасибо за очень хорошую доработку и за то, что попробовал все предложенные решения. Я уверен, это облегчит выполнение следующих проектов. Однако отсалась одна деталь на доработку, связанная с расчетом ROC_AUC.\n",
    "</div>\n",
    " \n"
   ]
  },
  {
   "cell_type": "markdown",
   "metadata": {},
   "source": [
    "\n",
    "<div style=\"border:solid Chocolate 2px; padding: 40px\">\n",
    "\n",
    "**Общий вывод по проекту**\n",
    "    \n",
    "Спасибо за твой проект! Есть несколько важных моментов, которые необходимо поправить. Их ты найдешь в разноцветных комментариях.\n",
    "    \n",
    "**Отмечу положительные моменты проекта🚀**\n",
    "    \n",
    "* Хорошая структура проекта. Выбор моделей, порядок исследования.\n",
    "* Есть пояснения к шагам, код с высокой читаемостью. \n",
    "* Логичность решений.\n",
    "* Хороший результат на тестовой выборке.\n",
    "    \n",
    "**На что стоит обратить внимание🤔**\n",
    "    \n",
    "* Необходимо изменить подход к заполнению пропусков.\n",
    "* Нужно удалить все лишние колонки.\n",
    "* У всех моделей важно измерить ROC_AUC по вероятностям классов. Метрику R2 в нашей задаче использовать будет ошибочно.\n",
    "* Апсемпилнг нужно довести до баланса классов (1:1, умножаем редкий класс на 4).\n",
    "* Необходимо везде оставлять промежуточные выводы.\n",
    "* Эти и остальные замечания я также написал по ходу проекта.\n",
    "    \n",
    "**Желаю удачи и жду твой проект на повторное ревью!**😉\n",
    "    \n",
    "    \n",
    "</div>\n"
   ]
  },
  {
   "cell_type": "markdown",
   "metadata": {},
   "source": [
    "\n",
    "<div style=\"border:solid Chocolate 2px; padding: 40px\">\n",
    "\n",
    "**Комментарий ко второй проверке**\n",
    "\n",
    "Спасибо за качественную доработку. Практически все верно. Однако еще кое-что осталось.\n",
    "\n",
    "У всех моделей все еще важно измерить ROC_AUC по вероятностям классов. Не стоит переводить вероятности классов в бинарные значения, сравнивая их с порогом. Для вычисления ROC_AUC нам нужны исключительно вероятности. Мы должны ранжировать все ответы модели по вероятностям классов от наиболее вероятного до наименее, именно так мы сможем построить кривую и корректно рассчитать площадь под ней. Подробнее про то, как рассчитываем метрику, можно почитать и посмотреть на графиках здесь: https://alexanderdyakonov.wordpress.com/2017/07/28/auc-roc-площадь-под-кривой-ошибок/  \n",
    "\n",
    "**Желаю удачи и жду твой проект на повторное ревью!**😉\n",
    "</div>\n",
    "\n",
    "\n"
   ]
  },
  {
   "cell_type": "markdown",
   "metadata": {},
   "source": [
    "<div class=\"alert alert-info\">\n",
    "Теперь точно все, спасибо за комментарий!\n",
    "</div>"
   ]
  },
  {
   "cell_type": "markdown",
   "metadata": {},
   "source": [
    "<div style=\"border:solid Chocolate 2px; padding: 40px\">\n",
    "\n",
    "**Комментарий к финальной проверке**\n",
    "\n",
    "Да, теперь точно все. Еще раз спасибо за проект!\n",
    "\n",
    "Желаю удачи в дальнейшей учебе!\n",
    "\n",
    "</div>\n"
   ]
  },
  {
   "cell_type": "markdown",
   "metadata": {},
   "source": [
    "# Чек-лист готовности проекта"
   ]
  },
  {
   "cell_type": "markdown",
   "metadata": {},
   "source": [
    "Поставьте 'x' в выполненных пунктах. Далее нажмите Shift+Enter."
   ]
  },
  {
   "cell_type": "markdown",
   "metadata": {},
   "source": [
    "- [x]  Jupyter Notebook открыт\n",
    "- [x]  Весь код выполняется без ошибок\n",
    "- [x]  Ячейки с кодом расположены в порядке исполнения\n",
    "- [x]  Выполнен шаг 1: данные подготовлены\n",
    "- [x]  Выполнен шаг 2: задача исследована\n",
    "    - [x]  Исследован баланс классов\n",
    "    - [x]  Изучены модели без учёта дисбаланса\n",
    "    - [x]  Написаны выводы по результатам исследования\n",
    "- [x]  Выполнен шаг 3: учтён дисбаланс\n",
    "    - [x]  Применено несколько способов борьбы с дисбалансом\n",
    "    - [x]  Написаны выводы по результатам исследования\n",
    "- [x]  Выполнен шаг 4: проведено тестирование\n",
    "- [x]  Удалось достичь *F1*-меры не менее 0.59\n",
    "- [x]  Исследована метрика *AUC-ROC*"
   ]
  }
 ],
 "metadata": {
  "ExecuteTimeLog": [
   {
    "duration": 7,
    "start_time": "2023-06-29T11:55:52.341Z"
   },
   {
    "duration": 15,
    "start_time": "2023-06-29T11:55:52.350Z"
   },
   {
    "duration": 2386,
    "start_time": "2023-06-29T11:55:52.366Z"
   },
   {
    "duration": 200,
    "start_time": "2023-06-29T11:55:54.755Z"
   },
   {
    "duration": 14,
    "start_time": "2023-06-29T11:55:54.957Z"
   },
   {
    "duration": 24,
    "start_time": "2023-06-29T11:55:54.972Z"
   },
   {
    "duration": 6,
    "start_time": "2023-06-29T11:55:54.998Z"
   },
   {
    "duration": 21,
    "start_time": "2023-06-29T11:55:55.005Z"
   },
   {
    "duration": 18,
    "start_time": "2023-06-29T11:55:55.029Z"
   },
   {
    "duration": 19,
    "start_time": "2023-06-29T11:55:55.048Z"
   },
   {
    "duration": 29,
    "start_time": "2023-06-29T11:55:55.068Z"
   },
   {
    "duration": 37,
    "start_time": "2023-06-29T11:55:55.098Z"
   },
   {
    "duration": 29,
    "start_time": "2023-06-29T11:55:55.137Z"
   },
   {
    "duration": 12,
    "start_time": "2023-06-29T11:55:55.167Z"
   },
   {
    "duration": 25,
    "start_time": "2023-06-29T11:55:55.181Z"
   },
   {
    "duration": 15,
    "start_time": "2023-06-29T11:55:55.207Z"
   },
   {
    "duration": 31,
    "start_time": "2023-06-29T11:55:55.223Z"
   },
   {
    "duration": 17,
    "start_time": "2023-06-29T11:55:55.255Z"
   },
   {
    "duration": 8,
    "start_time": "2023-06-29T11:55:55.274Z"
   },
   {
    "duration": 8,
    "start_time": "2023-06-29T11:55:55.283Z"
   },
   {
    "duration": 41,
    "start_time": "2023-06-29T11:55:55.292Z"
   },
   {
    "duration": 6,
    "start_time": "2023-06-29T11:55:55.334Z"
   },
   {
    "duration": 17,
    "start_time": "2023-06-29T11:55:55.342Z"
   },
   {
    "duration": 15,
    "start_time": "2023-06-29T11:55:55.363Z"
   },
   {
    "duration": 411,
    "start_time": "2023-06-29T11:55:55.379Z"
   },
   {
    "duration": 75098,
    "start_time": "2023-06-29T11:55:55.792Z"
   },
   {
    "duration": 461,
    "start_time": "2023-06-29T11:57:10.892Z"
   },
   {
    "duration": 257,
    "start_time": "2023-06-29T11:57:11.355Z"
   },
   {
    "duration": 256,
    "start_time": "2023-06-29T11:57:11.614Z"
   },
   {
    "duration": 4,
    "start_time": "2023-06-29T11:57:11.875Z"
   },
   {
    "duration": 14,
    "start_time": "2023-06-29T11:57:11.881Z"
   },
   {
    "duration": 6,
    "start_time": "2023-06-29T11:57:11.896Z"
   },
   {
    "duration": 22,
    "start_time": "2023-06-29T11:57:11.903Z"
   },
   {
    "duration": 5,
    "start_time": "2023-06-29T11:57:11.927Z"
   },
   {
    "duration": 6,
    "start_time": "2023-06-29T11:57:11.934Z"
   },
   {
    "duration": 685,
    "start_time": "2023-06-29T11:57:11.942Z"
   },
   {
    "duration": 534,
    "start_time": "2023-06-29T11:57:12.628Z"
   },
   {
    "duration": 274,
    "start_time": "2023-06-29T11:57:13.164Z"
   },
   {
    "duration": 206,
    "start_time": "2023-06-29T11:57:13.439Z"
   },
   {
    "duration": 5,
    "start_time": "2023-06-29T11:57:13.647Z"
   },
   {
    "duration": 11,
    "start_time": "2023-06-29T11:57:13.654Z"
   },
   {
    "duration": 15,
    "start_time": "2023-06-29T11:57:13.666Z"
   },
   {
    "duration": 9,
    "start_time": "2023-06-29T11:57:13.683Z"
   },
   {
    "duration": 299,
    "start_time": "2023-06-29T11:57:13.693Z"
   },
   {
    "duration": 274,
    "start_time": "2023-06-29T11:57:13.993Z"
   },
   {
    "duration": 232,
    "start_time": "2023-06-29T11:57:14.274Z"
   },
   {
    "duration": 170,
    "start_time": "2023-06-29T11:57:14.507Z"
   },
   {
    "duration": 589,
    "start_time": "2023-06-29T11:57:14.678Z"
   },
   {
    "duration": 187,
    "start_time": "2023-06-29T11:57:15.268Z"
   }
  ],
  "kernelspec": {
   "display_name": "Python 3 (ipykernel)",
   "language": "python",
   "name": "python3"
  },
  "language_info": {
   "codemirror_mode": {
    "name": "ipython",
    "version": 3
   },
   "file_extension": ".py",
   "mimetype": "text/x-python",
   "name": "python",
   "nbconvert_exporter": "python",
   "pygments_lexer": "ipython3",
   "version": "3.9.5"
  },
  "toc": {
   "base_numbering": 1,
   "nav_menu": {},
   "number_sections": true,
   "sideBar": true,
   "skip_h1_title": true,
   "title_cell": "Содержание",
   "title_sidebar": "Contents",
   "toc_cell": true,
   "toc_position": {},
   "toc_section_display": true,
   "toc_window_display": false
  },
  "toc-autonumbering": true,
  "toc-showmarkdowntxt": false
 },
 "nbformat": 4,
 "nbformat_minor": 4
}
